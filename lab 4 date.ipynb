{
 "cells": [
  {
   "cell_type": "markdown",
   "id": "3b22cf2b-25f8-4bab-af18-966aa54b6f12",
   "metadata": {},
   "source": [
    "lab4 -date"
   ]
  },
  {
   "cell_type": "markdown",
   "id": "f0e9587b-74e8-447a-b3c4-f6bbfe7fcd41",
   "metadata": {},
   "source": [
    "task 1"
   ]
  },
  {
   "cell_type": "code",
   "execution_count": 17,
   "id": "54cd3854-21dc-4bcc-9131-6e0c5ef7cb58",
   "metadata": {},
   "outputs": [
    {
     "name": "stdout",
     "output_type": "stream",
     "text": [
      "2025-02-19\n",
      "2025-02-14\n"
     ]
    }
   ],
   "source": [
    "from datetime import datetime, timedelta\n",
    "current_date = datetime.today()\n",
    "new_date = current_date - timedelta(days=5)\n",
    "print( current_date.strftime(\"%Y-%m-%d\"))\n",
    "print( new_date.strftime(\"%Y-%m-%d\"))"
   ]
  },
  {
   "cell_type": "markdown",
   "id": "4e0025c8-dd3a-4836-a14e-38eb91a97727",
   "metadata": {},
   "source": [
    "task 2"
   ]
  },
  {
   "cell_type": "code",
   "execution_count": 19,
   "id": "331b1e68-46b8-4346-89c1-36c21b288ca0",
   "metadata": {},
   "outputs": [
    {
     "name": "stdout",
     "output_type": "stream",
     "text": [
      "Yesterda 2025-02-18\n",
      "Today 2025-02-19\n",
      "Tomorrow 2025-02-20\n"
     ]
    }
   ],
   "source": [
    "from datetime import datetime, timedelta\n",
    "today = datetime.today()\n",
    "yesterday = today - timedelta(days=1)\n",
    "tomorrow = today + timedelta(days=1)\n",
    "print(\"Yesterda\", yesterday.strftime(\"%Y-%m-%d\"))\n",
    "print(\"Today\", today.strftime(\"%Y-%m-%d\"))\n",
    "print(\"Tomorrow\", tomorrow.strftime(\"%Y-%m-%d\"))"
   ]
  },
  {
   "cell_type": "markdown",
   "id": "1f53b92f-e4e9-48be-8adb-fe7c9ebc2986",
   "metadata": {},
   "source": [
    "task 3"
   ]
  },
  {
   "cell_type": "code",
   "execution_count": 23,
   "id": "abef6d6d-b96b-47c6-9cd2-795ec3912087",
   "metadata": {},
   "outputs": [
    {
     "name": "stdout",
     "output_type": "stream",
     "text": [
      "Current 2025-02-19 23:50:03.743432\n",
      "withot 2025-02-19 23:50:03\n"
     ]
    }
   ],
   "source": [
    "from datetime import datetime\n",
    "current_time = datetime.now()\n",
    "without_microseconds = current_time.replace(microsecond=0)\n",
    "print(\"Current\", current_time)\n",
    "print(\"withot\", without_microseconds)"
   ]
  },
  {
   "cell_type": "markdown",
   "id": "c48c68ce-7bb5-4ff8-9d03-bb4574b8a2f2",
   "metadata": {},
   "source": [
    "task 4"
   ]
  },
  {
   "cell_type": "code",
   "execution_count": 29,
   "id": "3cadece7-2084-410f-8d03-04daa62458ce",
   "metadata": {},
   "outputs": [
    {
     "name": "stdout",
     "output_type": "stream",
     "text": [
      "Different 86400.0\n"
     ]
    }
   ],
   "source": [
    "from datetime import datetime\n",
    "date1 = datetime(2024, 2, 1, 12, 0, 0) \n",
    "date2 = datetime(2024, 2, 2, 12, 0, 0)  \n",
    "difference = (date2 - date1).total_seconds()\n",
    "print(\"Different\", difference)"
   ]
  },
  {
   "cell_type": "code",
   "execution_count": null,
   "id": "88d8c3c3-45d3-4b89-a61e-27fb17168a46",
   "metadata": {},
   "outputs": [],
   "source": []
  }
 ],
 "metadata": {
  "kernelspec": {
   "display_name": "Python [conda env:base] *",
   "language": "python",
   "name": "conda-base-py"
  },
  "language_info": {
   "codemirror_mode": {
    "name": "ipython",
    "version": 3
   },
   "file_extension": ".py",
   "mimetype": "text/x-python",
   "name": "python",
   "nbconvert_exporter": "python",
   "pygments_lexer": "ipython3",
   "version": "3.12.7"
  }
 },
 "nbformat": 4,
 "nbformat_minor": 5
}
