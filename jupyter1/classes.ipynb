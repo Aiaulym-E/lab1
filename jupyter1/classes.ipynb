{
 "cells": [
  {
   "cell_type": "markdown",
   "id": "9cf6b03f-a486-4d51-9522-47800e1a5b86",
   "metadata": {},
   "source": [
    "excercise 1"
   ]
  },
  {
   "cell_type": "code",
   "execution_count": 2,
   "id": "121a23d4-a880-4cd0-af13-acdd81d443b1",
   "metadata": {},
   "outputs": [
    {
     "name": "stdin",
     "output_type": "stream",
     "text": [
      "Enter:  ergf\n"
     ]
    },
    {
     "name": "stdout",
     "output_type": "stream",
     "text": [
      "ERGF\n"
     ]
    }
   ],
   "source": [
    "class String:\n",
    "    def __init__(self):\n",
    "        self.text = \"\"\n",
    "    def getString(self):\n",
    "        self.text = input(\"Enter: \")\n",
    "    def printString(self):\n",
    "        print(self.text.upper())\n",
    "obj = String()\n",
    "obj.getString()\n",
    "obj.printString()"
   ]
  },
  {
   "cell_type": "markdown",
   "id": "e0ad9564-b81f-430a-8878-3fff6202075c",
   "metadata": {},
   "source": [
    "exercise 2"
   ]
  },
  {
   "cell_type": "code",
   "execution_count": 19,
   "id": "0b7fd9d0-0db8-45b8-be84-b1e047af7217",
   "metadata": {},
   "outputs": [
    {
     "name": "stdout",
     "output_type": "stream",
     "text": [
      "25\n"
     ]
    }
   ],
   "source": [
    "class Shape:\n",
    "    def area(self): \n",
    "        return 0\n",
    "class Square(Shape):\n",
    "    def __init__(self, length):\n",
    "        self.length = length\n",
    "    def area(self):\n",
    "        return self.length ** 2\n",
    "sq = Square(5)\n",
    "print(sq.area()) \n"
   ]
  },
  {
   "cell_type": "markdown",
   "id": "8d35af58-b445-47e9-b9f0-ddc377ca13f0",
   "metadata": {},
   "source": [
    "exercise 3"
   ]
  },
  {
   "cell_type": "code",
   "execution_count": 21,
   "id": "36f668ad-292a-44be-9f10-6fbfe9863a1f",
   "metadata": {},
   "outputs": [
    {
     "name": "stdout",
     "output_type": "stream",
     "text": [
      "6\n"
     ]
    }
   ],
   "source": [
    "class Rectangle(Shape):\n",
    "    def __init__(self, length, width):\n",
    "        self.length = length\n",
    "        self.width = width\n",
    "    def area(self):\n",
    "        return self.length * self.width\n",
    "rect = Rectangle(2, 3)\n",
    "print(rect.area()) "
   ]
  },
  {
   "cell_type": "markdown",
   "id": "46c7d1e3-53ec-4675-92bf-2c5a121d5a02",
   "metadata": {},
   "source": [
    "exercise 4"
   ]
  },
  {
   "cell_type": "code",
   "execution_count": 25,
   "id": "313b1652-27bf-40ed-84f2-2bec894b243d",
   "metadata": {},
   "outputs": [
    {
     "name": "stdout",
     "output_type": "stream",
     "text": [
      "Point: (2, 3)\n",
      "Point: (4, 6)\n",
      "1.4142135623730951\n"
     ]
    }
   ],
   "source": [
    "import math\n",
    "class Point:\n",
    "    def __init__(self, x, y):\n",
    "        self.x = x\n",
    "        self.y = y\n",
    "    def show(self):\n",
    "        print(f\"Point: ({self.x}, {self.y})\")\n",
    "    def move(self, new_x, new_y):\n",
    "        self.x = new_x\n",
    "        self.y = new_y\n",
    "    def dist(self, other_point):\n",
    "        return math.sqrt((self.x - other_point.x) ** 2 + (self.y - other_point.y) ** 2)\n",
    "p1 = Point(2, 3)\n",
    "p2 = Point(5, 7)\n",
    "p1.show()\n",
    "p1.move(4, 6)\n",
    "p1.show()\n",
    "print(p1.dist(p2))  "
   ]
  },
  {
   "cell_type": "markdown",
   "id": "82468fe8-dd41-45c3-92ba-57c3fe5b48dd",
   "metadata": {},
   "source": [
    "exercise 5"
   ]
  },
  {
   "cell_type": "code",
   "execution_count": 29,
   "id": "88c901e4-577f-4de5-ad3d-e4f81d4517e4",
   "metadata": {},
   "outputs": [
    {
     "name": "stdout",
     "output_type": "stream",
     "text": [
      "Deposited 50. New balance: 150\n",
      "Withdrew 30. New balance: 120\n",
      "Insufficient!\n"
     ]
    }
   ],
   "source": [
    "class Account:\n",
    "    def __init__(self, owner, balance=0):\n",
    "        self.owner = owner\n",
    "        self.balance = balance\n",
    "    def deposit(self, amount):\n",
    "        self.balance += amount\n",
    "        print(f\"Deposited {amount}. New balance: {self.balance}\")\n",
    "    def withdraw(self, amount):\n",
    "        if amount > self.balance:\n",
    "            print(\"Insufficient!\")\n",
    "        else:\n",
    "            self.balance -= amount\n",
    "            print(f\"Withdrew {amount}. New balance: {self.balance}\")\n",
    "acc = Account(\"John\", 100)\n",
    "acc.deposit(50)\n",
    "acc.withdraw(30)\n",
    "acc.withdraw(150) "
   ]
  },
  {
   "cell_type": "markdown",
   "id": "7d97062a-dc93-4446-b0a0-78189a110407",
   "metadata": {},
   "source": [
    "execcise 6"
   ]
  },
  {
   "cell_type": "code",
   "execution_count": 31,
   "id": "96711f2b-b7b4-48f3-837d-7fb2136c6b48",
   "metadata": {},
   "outputs": [
    {
     "name": "stdout",
     "output_type": "stream",
     "text": [
      "[2, 5, 11, 7]\n"
     ]
    }
   ],
   "source": [
    "def is_prime(n):\n",
    "    if n < 2:\n",
    "        return False\n",
    "    for i in range(2, n):\n",
    "        if n % i == 0:\n",
    "            return False\n",
    "    return True\n",
    "numbers = [1, 2, 5,11,8,7,9,56,10]\n",
    "prime_numbers = list(filter(lambda x: is_prime(x), numbers))\n",
    "print(prime_numbers)  "
   ]
  }
 ],
 "metadata": {
  "kernelspec": {
   "display_name": "Python [conda env:base] *",
   "language": "python",
   "name": "conda-base-py"
  },
  "language_info": {
   "codemirror_mode": {
    "name": "ipython",
    "version": 3
   },
   "file_extension": ".py",
   "mimetype": "text/x-python",
   "name": "python",
   "nbconvert_exporter": "python",
   "pygments_lexer": "ipython3",
   "version": "3.12.7"
  }
 },
 "nbformat": 4,
 "nbformat_minor": 5
}
