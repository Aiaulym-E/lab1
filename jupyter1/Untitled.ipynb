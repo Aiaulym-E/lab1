{
 "cells": [
  {
   "cell_type": "markdown",
   "id": "dc9ec686-7e50-44ad-9580-037d1162461b",
   "metadata": {},
   "source": [
    "LAB 1"
   ]
  },
  {
   "cell_type": "markdown",
   "id": "ff4d349a-eeff-4f1d-8241-dc859d3102fd",
   "metadata": {},
   "source": [
    "Python Get Started"
   ]
  },
  {
   "cell_type": "code",
   "execution_count": 3,
   "id": "207bec65-f719-4ca7-be7f-c6d93b207b37",
   "metadata": {},
   "outputs": [
    {
     "name": "stdout",
     "output_type": "stream",
     "text": [
      "Hello, World!\n"
     ]
    }
   ],
   "source": [
    "print(\"Hello, World!\")"
   ]
  },
  {
   "cell_type": "markdown",
   "id": "aec08e0c-ec4b-4a89-be19-b600f64c9e31",
   "metadata": {},
   "source": [
    "Python Syntax"
   ]
  },
  {
   "cell_type": "markdown",
   "id": "75482f18-a5e5-42cf-ad84-70a59b1d6d6f",
   "metadata": {},
   "source": [
    "Example 1"
   ]
  },
  {
   "cell_type": "code",
   "execution_count": 5,
   "id": "27b6317d-0b88-4999-ac9d-6a4bbd630566",
   "metadata": {},
   "outputs": [
    {
     "name": "stdout",
     "output_type": "stream",
     "text": [
      "Five is greater than two!\n"
     ]
    }
   ],
   "source": [
    "if 5>2:\n",
    "    print(\"Five is greater than two!\")"
   ]
  },
  {
   "cell_type": "markdown",
   "id": "40b3c385-0350-45cb-bfa7-db0e3c72f567",
   "metadata": {},
   "source": [
    "Example 2"
   ]
  },
  {
   "cell_type": "code",
   "execution_count": 13,
   "id": "e8adbb95-2d5c-47a5-8b0f-f053b22bdb4a",
   "metadata": {},
   "outputs": [
    {
     "name": "stdout",
     "output_type": "stream",
     "text": [
      "Five is greater than two!\n",
      "Five is greater than two!\n"
     ]
    }
   ],
   "source": [
    "if 5>2:\n",
    "    print(\"Five is greater than two!\")\n",
    "if 5>2:\n",
    "      print(\"Five is greater than two!\")"
   ]
  },
  {
   "cell_type": "markdown",
   "id": "71e13344-fe4e-40fe-a9fb-e8c8f9e25489",
   "metadata": {},
   "source": [
    "Example 3"
   ]
  },
  {
   "cell_type": "code",
   "execution_count": 16,
   "id": "5bb68fc3-302c-4f71-afcb-8f47093a33f4",
   "metadata": {},
   "outputs": [
    {
     "name": "stdout",
     "output_type": "stream",
     "text": [
      "5\n",
      "Hello,World!\n"
     ]
    }
   ],
   "source": [
    "x=5\n",
    "y=\"Hello,World!\"\n",
    "print(x)\n",
    "print(y)"
   ]
  },
  {
   "cell_type": "markdown",
   "id": "cf07a451-a169-4e8a-828d-dbabacda7b50",
   "metadata": {},
   "source": [
    "Python comments"
   ]
  },
  {
   "cell_type": "markdown",
   "id": "73716623-c9e9-4976-a747-6f3653908b24",
   "metadata": {},
   "source": [
    "Example 1"
   ]
  },
  {
   "cell_type": "code",
   "execution_count": 18,
   "id": "56799752-9ef4-4c5b-b3da-433ed4efe820",
   "metadata": {},
   "outputs": [
    {
     "name": "stdout",
     "output_type": "stream",
     "text": [
      "Hello,World!\n"
     ]
    }
   ],
   "source": [
    "#this is comment\n",
    "print(\"Hello,World!\")"
   ]
  },
  {
   "cell_type": "markdown",
   "id": "de158bef-40d1-4c57-b753-8938ca67ba6d",
   "metadata": {},
   "source": [
    "Example 2"
   ]
  },
  {
   "cell_type": "code",
   "execution_count": 20,
   "id": "756729df-6578-4de3-8ecc-e57c9495e2b4",
   "metadata": {},
   "outputs": [
    {
     "name": "stdout",
     "output_type": "stream",
     "text": [
      "Hello, World!\n"
     ]
    }
   ],
   "source": [
    "print(\"Hello, World!\")#this is comment"
   ]
  },
  {
   "cell_type": "markdown",
   "id": "2d02e711-98c6-4845-a5cd-f386673634f9",
   "metadata": {},
   "source": [
    "Example 3"
   ]
  },
  {
   "cell_type": "code",
   "execution_count": 22,
   "id": "00798480-f8ea-40b1-ae14-85b5af02a8b1",
   "metadata": {},
   "outputs": [
    {
     "name": "stdout",
     "output_type": "stream",
     "text": [
      "Cheers,Mate!\n"
     ]
    }
   ],
   "source": [
    "#print(\"Hello,World!\")\n",
    "print(\"Cheers,Mate!\")"
   ]
  },
  {
   "cell_type": "markdown",
   "id": "ff402a70-3e2f-4624-82eb-264fe09293b2",
   "metadata": {},
   "source": [
    "Example 4"
   ]
  },
  {
   "cell_type": "code",
   "execution_count": 24,
   "id": "caeda176-971b-4122-818a-25592aec95fe",
   "metadata": {},
   "outputs": [
    {
     "name": "stdout",
     "output_type": "stream",
     "text": [
      "Hello, Word!\n"
     ]
    }
   ],
   "source": [
    "#This is a comment\n",
    "#written in\n",
    "#more than just one line\n",
    "print(\"Hello, Word!\")"
   ]
  },
  {
   "cell_type": "markdown",
   "id": "42ceb2d8-c7f7-4d3b-9c04-2d2e90414990",
   "metadata": {},
   "source": [
    "Example 5"
   ]
  },
  {
   "cell_type": "code",
   "execution_count": 26,
   "id": "abe221b2-c1a5-409f-826d-3963a7bf7e59",
   "metadata": {},
   "outputs": [
    {
     "name": "stdout",
     "output_type": "stream",
     "text": [
      "Hello World\n"
     ]
    }
   ],
   "source": [
    "\"\"\"\n",
    "This is comment \n",
    "comment\n",
    "\"\"\"\n",
    "print(\"Hello World\")"
   ]
  },
  {
   "cell_type": "markdown",
   "id": "63d572b8-5552-4890-8d95-e534235470b6",
   "metadata": {},
   "source": [
    "Python Variables "
   ]
  },
  {
   "cell_type": "markdown",
   "id": "c677789e-d04d-459d-b3f1-927403f7a1b0",
   "metadata": {},
   "source": [
    "Example 1"
   ]
  },
  {
   "cell_type": "code",
   "execution_count": 28,
   "id": "ec736b29-c24d-48b8-a740-d5f4d891fd6f",
   "metadata": {},
   "outputs": [
    {
     "name": "stdout",
     "output_type": "stream",
     "text": [
      "5\n",
      "John\n"
     ]
    }
   ],
   "source": [
    "x = 5\n",
    "y = \"John\"\n",
    "print(x)\n",
    "print(y)"
   ]
  },
  {
   "cell_type": "markdown",
   "id": "388bded9-b171-4481-81f7-31cc5e73d602",
   "metadata": {},
   "source": [
    "Example 2"
   ]
  },
  {
   "cell_type": "code",
   "execution_count": 33,
   "id": "00438351-efd1-4e70-9d8f-081248fdc2a4",
   "metadata": {},
   "outputs": [
    {
     "name": "stdout",
     "output_type": "stream",
     "text": [
      "Aiaulym\n"
     ]
    }
   ],
   "source": [
    "x=4\n",
    "x=\"Aiaulym\"\n",
    "print(x)"
   ]
  },
  {
   "cell_type": "markdown",
   "id": "327a6d8d-2c32-4d91-a892-f8381b74fe96",
   "metadata": {},
   "source": [
    "Example 3"
   ]
  },
  {
   "cell_type": "code",
   "execution_count": 35,
   "id": "3e89b23c-fdcc-4bd4-9d86-a142230d59a1",
   "metadata": {},
   "outputs": [
    {
     "name": "stdout",
     "output_type": "stream",
     "text": [
      "3\n",
      "3\n",
      "3.0\n"
     ]
    }
   ],
   "source": [
    "x = str(3)\n",
    "y = int(3)\n",
    "z = float(3)\n",
    "print(x)\n",
    "print(y)\n",
    "print(z)"
   ]
  },
  {
   "cell_type": "markdown",
   "id": "ed25d01a-c6f7-4721-b4fb-f9610e3c4601",
   "metadata": {},
   "source": [
    "Example 4"
   ]
  },
  {
   "cell_type": "code",
   "execution_count": 37,
   "id": "7d599c29-5ecc-48a4-a7e3-9c6f2c60b821",
   "metadata": {},
   "outputs": [
    {
     "name": "stdout",
     "output_type": "stream",
     "text": [
      "<class 'int'>\n",
      "<class 'str'>\n"
     ]
    }
   ],
   "source": [
    "x = 5\n",
    "y = \"John\"\n",
    "print(type(x))\n",
    "print(type(y))"
   ]
  },
  {
   "cell_type": "markdown",
   "id": "eee1fbde-60dc-47cb-b48f-ffaaa4957c1d",
   "metadata": {},
   "source": [
    "Example 5"
   ]
  },
  {
   "cell_type": "code",
   "execution_count": 40,
   "id": "5763c61a-65de-40c5-a42f-a2db05bf41e7",
   "metadata": {},
   "outputs": [
    {
     "name": "stdout",
     "output_type": "stream",
     "text": [
      "hello world\n"
     ]
    }
   ],
   "source": [
    "x='hello world'\n",
    "print(x)"
   ]
  },
  {
   "cell_type": "markdown",
   "id": "a56ad4a5-bd85-4418-b57b-67c090121392",
   "metadata": {},
   "source": [
    "Example 6"
   ]
  },
  {
   "cell_type": "code",
   "execution_count": 42,
   "id": "ecd2f788-0bdb-4a29-9b4e-88d4981b58b1",
   "metadata": {},
   "outputs": [
    {
     "name": "stdout",
     "output_type": "stream",
     "text": [
      "4\n",
      "aiaulym\n"
     ]
    }
   ],
   "source": [
    "a=4\n",
    "A=\"aiaulym\"\n",
    "print(a)\n",
    "print(A)"
   ]
  },
  {
   "cell_type": "markdown",
   "id": "7bb50da4-8223-4b35-9b7c-b64c54c8f60a",
   "metadata": {},
   "source": [
    "Python Variables (variable names)"
   ]
  },
  {
   "cell_type": "markdown",
   "id": "ecf2df50-c2be-4d29-83c6-78274b93bc77",
   "metadata": {},
   "source": [
    "Example 1"
   ]
  },
  {
   "cell_type": "code",
   "execution_count": 44,
   "id": "c227f398-9927-425a-af69-d108fbdf3a8e",
   "metadata": {},
   "outputs": [
    {
     "name": "stdout",
     "output_type": "stream",
     "text": [
      "John\n",
      "John\n",
      "John\n",
      "John\n",
      "John\n",
      "John\n"
     ]
    }
   ],
   "source": [
    "myvar = \"John\"\n",
    "my_var = \"John\"\n",
    "myvar2 = \"John\"\n",
    "_my_var = \"John\"\n",
    "myVar = \"John\"\n",
    "MYVAR = \"John\"\n",
    "print(myvar)\n",
    "print(my_var)\n",
    "print(_my_var)\n",
    "print(myVar)\n",
    "print(MYVAR)\n",
    "print(myvar2)"
   ]
  },
  {
   "cell_type": "markdown",
   "id": "703e6911-85c4-4c6b-ba91-0abc2bd68a95",
   "metadata": {},
   "source": [
    "Python Variables(Assign Multiple Values)"
   ]
  },
  {
   "cell_type": "markdown",
   "id": "17b62f62-1289-4b23-a843-91604a2bf6a3",
   "metadata": {},
   "source": [
    "example 1"
   ]
  },
  {
   "cell_type": "code",
   "execution_count": 46,
   "id": "59ec5a93-5700-427f-9fd9-3a6b4125d84e",
   "metadata": {},
   "outputs": [
    {
     "name": "stdout",
     "output_type": "stream",
     "text": [
      "apple\n",
      "banana\n",
      "cherry\n"
     ]
    }
   ],
   "source": [
    "x,y,z=\"apple\",\"banana\",\"cherry\"\n",
    "print(x)\n",
    "print(y)\n",
    "print(z)"
   ]
  },
  {
   "cell_type": "markdown",
   "id": "e94664e8-f7b8-4699-bd46-9d6c2af7589b",
   "metadata": {},
   "source": [
    "Example 2"
   ]
  },
  {
   "cell_type": "code",
   "execution_count": 48,
   "id": "ee5f693e-7fdb-4688-8d9d-63e965411f5d",
   "metadata": {},
   "outputs": [
    {
     "name": "stdout",
     "output_type": "stream",
     "text": [
      "apple\n",
      "apple\n",
      "apple\n"
     ]
    }
   ],
   "source": [
    "x=y=z=\"apple\"\n",
    "print(x)\n",
    "print(y)\n",
    "print(z)"
   ]
  },
  {
   "cell_type": "markdown",
   "id": "2a3fe06c-3321-432f-8b11-11e69da535dc",
   "metadata": {},
   "source": [
    "example 3"
   ]
  },
  {
   "cell_type": "code",
   "execution_count": 50,
   "id": "65d138ea-98a2-41b8-9c80-1f627595ee44",
   "metadata": {},
   "outputs": [
    {
     "name": "stdout",
     "output_type": "stream",
     "text": [
      "apple\n",
      "banana\n",
      "cherry\n"
     ]
    }
   ],
   "source": [
    "fruit=[\"apple\",\"banana\",\"cherry\"]\n",
    "x,y,z=fruit\n",
    "print(x)\n",
    "print(y)\n",
    "print(z)"
   ]
  },
  {
   "cell_type": "markdown",
   "id": "224e3406-5baa-496f-a23c-313a41ed0dbe",
   "metadata": {},
   "source": [
    "python - Output Variables"
   ]
  },
  {
   "cell_type": "markdown",
   "id": "0fd750ee-0884-4ba6-a1f5-69c7955f4b51",
   "metadata": {},
   "source": [
    "example 1"
   ]
  },
  {
   "cell_type": "code",
   "execution_count": 54,
   "id": "acd116fc-42f6-47a8-89ef-e862da0041fb",
   "metadata": {},
   "outputs": [
    {
     "name": "stdout",
     "output_type": "stream",
     "text": [
      "python is awsome\n"
     ]
    }
   ],
   "source": [
    "x=\"python is awsome\"\n",
    "print(x)"
   ]
  },
  {
   "cell_type": "markdown",
   "id": "cabd79ad-202e-4453-9e37-49078cb6be2a",
   "metadata": {},
   "source": [
    "example 2"
   ]
  },
  {
   "cell_type": "code",
   "execution_count": 56,
   "id": "17d5a085-af7c-429e-858a-e722d61471b7",
   "metadata": {},
   "outputs": [
    {
     "name": "stdout",
     "output_type": "stream",
     "text": [
      "python is awsome\n"
     ]
    }
   ],
   "source": [
    "x=\"python\"\n",
    "y=\"is\"\n",
    "z=\"awsome\"\n",
    "print(x,y,z)"
   ]
  },
  {
   "cell_type": "markdown",
   "id": "cc165853-fff4-44c3-8818-525164a07d82",
   "metadata": {},
   "source": [
    "example 3"
   ]
  },
  {
   "cell_type": "code",
   "execution_count": 60,
   "id": "ddf9b483-0b5f-43fc-845c-b8fac2e55cd8",
   "metadata": {},
   "outputs": [
    {
     "name": "stdout",
     "output_type": "stream",
     "text": [
      "python is awsome \n"
     ]
    }
   ],
   "source": [
    "x=\"python \"\n",
    "y=\"is \"\n",
    "z=\"awsome \"\n",
    "print(x+y+z)"
   ]
  },
  {
   "cell_type": "markdown",
   "id": "cd971515-314d-4c1b-a5ad-771f708c8838",
   "metadata": {},
   "source": [
    "example 4"
   ]
  },
  {
   "cell_type": "code",
   "execution_count": 62,
   "id": "d1608062-ada1-4030-9a63-ff8c0a740dfc",
   "metadata": {},
   "outputs": [
    {
     "name": "stdout",
     "output_type": "stream",
     "text": [
      "15\n"
     ]
    }
   ],
   "source": [
    "x = 5\n",
    "y = 10\n",
    "print(x + y)"
   ]
  },
  {
   "cell_type": "markdown",
   "id": "24d11613-1163-40a6-9e96-8f33933f7ab0",
   "metadata": {},
   "source": [
    "example 5"
   ]
  },
  {
   "cell_type": "code",
   "execution_count": 64,
   "id": "5f2f5fea-d6fc-468f-8565-f5ff7fcd0fa1",
   "metadata": {},
   "outputs": [
    {
     "name": "stdout",
     "output_type": "stream",
     "text": [
      "5 john\n"
     ]
    }
   ],
   "source": [
    "x=5\n",
    "y=\"john\"\n",
    "print(x,y)"
   ]
  },
  {
   "cell_type": "markdown",
   "id": "842df9e2-0a00-4bd4-88b3-53e1d80d2503",
   "metadata": {},
   "source": [
    "Python - Global Variables"
   ]
  },
  {
   "cell_type": "markdown",
   "id": "ad286bb7-c820-452e-afdc-3c690d3a897b",
   "metadata": {},
   "source": [
    "example 1"
   ]
  },
  {
   "cell_type": "code",
   "execution_count": 68,
   "id": "e38e9ae7-7159-4732-89e4-26300aadbd61",
   "metadata": {},
   "outputs": [
    {
     "name": "stdout",
     "output_type": "stream",
     "text": [
      "python is awsome\n"
     ]
    }
   ],
   "source": [
    "x=\"awsome\"\n",
    "print(\"python is \"+x)"
   ]
  },
  {
   "cell_type": "markdown",
   "id": "cf9405ed-7b2b-4409-b169-fe471170fab8",
   "metadata": {},
   "source": [
    "example 2"
   ]
  },
  {
   "cell_type": "code",
   "execution_count": 77,
   "id": "05261e18-a831-47b8-84ce-33584e2f38b8",
   "metadata": {},
   "outputs": [
    {
     "name": "stdout",
     "output_type": "stream",
     "text": [
      "python is awsome\n"
     ]
    }
   ],
   "source": [
    "x=\"awsome\"\n",
    "def myfunc():\n",
    " print(\"python is \"+x)\n",
    "myfunc()"
   ]
  },
  {
   "cell_type": "markdown",
   "id": "b9f9a5d6-400d-412a-b25a-798d7df042e8",
   "metadata": {},
   "source": [
    "example 3"
   ]
  },
  {
   "cell_type": "code",
   "execution_count": 93,
   "id": "74ac218d-a88c-47ae-a098-dd9bec36ff1a",
   "metadata": {},
   "outputs": [
    {
     "name": "stdout",
     "output_type": "stream",
     "text": [
      "python is fantastic\n",
      "python is awsome\n"
     ]
    }
   ],
   "source": [
    "x=\"awsome\"\n",
    "def myfunc():\n",
    "    x=\"fantastic\"\n",
    "    print(\"python is \"+ x)\n",
    "myfunc()\n",
    "print(\"python is \"+ x)"
   ]
  },
  {
   "cell_type": "markdown",
   "id": "49e56f7a-1f44-4e68-b349-72c682124514",
   "metadata": {},
   "source": [
    "example 4"
   ]
  },
  {
   "cell_type": "code",
   "execution_count": 95,
   "id": "56d9f22a-3d4a-4792-9e69-c1c8f82fa775",
   "metadata": {},
   "outputs": [
    {
     "name": "stdout",
     "output_type": "stream",
     "text": [
      "python is awsome\n"
     ]
    }
   ],
   "source": [
    "def myfunc():\n",
    "    global x\n",
    "    x=\"awsome\"\n",
    "myfunc()\n",
    "print(\"python is \"+x)"
   ]
  },
  {
   "cell_type": "markdown",
   "id": "f1cb620c-f967-41e4-9c70-ebd62df475c4",
   "metadata": {},
   "source": [
    "example 5"
   ]
  },
  {
   "cell_type": "code",
   "execution_count": 97,
   "id": "977f28ff-b846-4efc-9df9-e4100972f37b",
   "metadata": {},
   "outputs": [
    {
     "name": "stdout",
     "output_type": "stream",
     "text": [
      "python is fantastic\n"
     ]
    }
   ],
   "source": [
    "x=\"awsome\"\n",
    "def myfunc():\n",
    "    global x\n",
    "    x=\"fantastic\"\n",
    "myfunc()\n",
    "print(\"python is \"+x)"
   ]
  },
  {
   "cell_type": "markdown",
   "id": "51f3829a-b86e-4c75-afad-cdcabe8db9be",
   "metadata": {},
   "source": [
    "Python Data Types"
   ]
  },
  {
   "cell_type": "markdown",
   "id": "ef188ab0-36be-46e0-a6ee-1056b986a291",
   "metadata": {},
   "source": [
    "example 1"
   ]
  },
  {
   "cell_type": "code",
   "execution_count": 99,
   "id": "3b3a0495-f1cc-4e8a-88f5-efbbc65f59df",
   "metadata": {},
   "outputs": [
    {
     "name": "stdout",
     "output_type": "stream",
     "text": [
      "<class 'int'>\n"
     ]
    }
   ],
   "source": [
    "x=5\n",
    "print(type(x))"
   ]
  },
  {
   "cell_type": "markdown",
   "id": "bcf7d034-3a42-4936-83a4-2e66c16a12bc",
   "metadata": {},
   "source": [
    "example 2"
   ]
  },
  {
   "cell_type": "code",
   "execution_count": 101,
   "id": "99e80f78-b0b0-4d8b-a4cc-dd2a878cef3c",
   "metadata": {},
   "outputs": [
    {
     "name": "stdout",
     "output_type": "stream",
     "text": [
      "<class 'str'>\n"
     ]
    }
   ],
   "source": [
    "x = \"Hello World\"\n",
    "print(type(x)) "
   ]
  },
  {
   "cell_type": "markdown",
   "id": "ef7b04ec-ccde-4f28-83bf-9a4ba952fad9",
   "metadata": {},
   "source": [
    "example 3"
   ]
  },
  {
   "cell_type": "code",
   "execution_count": 103,
   "id": "df5aee5a-d08d-4f86-b3dc-aff89aedf656",
   "metadata": {},
   "outputs": [
    {
     "name": "stdout",
     "output_type": "stream",
     "text": [
      "<class 'complex'>\n"
     ]
    }
   ],
   "source": [
    "x = 1j\n",
    "print(type(x)) "
   ]
  },
  {
   "cell_type": "markdown",
   "id": "43b795ff-d97b-4e3c-acd2-f7c29eee2f58",
   "metadata": {},
   "source": [
    "example 4"
   ]
  },
  {
   "cell_type": "code",
   "execution_count": 105,
   "id": "5d331eef-e93e-44c8-aee3-6103afa39149",
   "metadata": {},
   "outputs": [
    {
     "name": "stdout",
     "output_type": "stream",
     "text": [
      "<class 'tuple'>\n"
     ]
    }
   ],
   "source": [
    "x = tuple((\"apple\", \"banana\", \"cherry\"))\n",
    "print(type(x)) "
   ]
  },
  {
   "cell_type": "markdown",
   "id": "b592f48b-024f-4bda-9629-b4cd67107406",
   "metadata": {},
   "source": [
    "example 5"
   ]
  },
  {
   "cell_type": "code",
   "execution_count": 111,
   "id": "99cb9c44-57fb-4405-8549-5c07392c2186",
   "metadata": {},
   "outputs": [
    {
     "name": "stdout",
     "output_type": "stream",
     "text": [
      "<class 'list'>\n"
     ]
    }
   ],
   "source": [
    "x = list((\"apple\", \"banana\", \"cherry\"))\n",
    "print(type(x)) \n"
   ]
  },
  {
   "cell_type": "markdown",
   "id": "72f30a1d-6ad7-4182-9c61-1c738d14078e",
   "metadata": {},
   "source": [
    "Python Numbers"
   ]
  },
  {
   "cell_type": "markdown",
   "id": "1d1efcfc-2375-4956-be8e-5bda3041d535",
   "metadata": {},
   "source": [
    "example 1"
   ]
  },
  {
   "cell_type": "code",
   "execution_count": 115,
   "id": "fb0f8ab6-bbac-463d-bff9-106c9931f9b5",
   "metadata": {},
   "outputs": [
    {
     "name": "stdout",
     "output_type": "stream",
     "text": [
      "<class 'int'>\n",
      "<class 'float'>\n",
      "<class 'complex'>\n"
     ]
    }
   ],
   "source": [
    "x = 1\n",
    "y = 2.8\n",
    "z = 1j\n",
    "print(type(x))\n",
    "print(type(y))\n",
    "print(type(z))"
   ]
  },
  {
   "cell_type": "markdown",
   "id": "e055a518-14dd-4979-88f9-4fe67290ee1b",
   "metadata": {},
   "source": [
    "example 2"
   ]
  },
  {
   "cell_type": "code",
   "execution_count": 119,
   "id": "cd2ed053-f413-4417-a878-b880003e385e",
   "metadata": {},
   "outputs": [
    {
     "name": "stdout",
     "output_type": "stream",
     "text": [
      "<class 'int'>\n",
      "<class 'int'>\n",
      "<class 'int'>\n"
     ]
    }
   ],
   "source": [
    "x = 1\n",
    "y = 356563562347637\n",
    "z = -3255522\n",
    "print(type(x))\n",
    "print(type(y))\n",
    "print(type(z))"
   ]
  },
  {
   "cell_type": "markdown",
   "id": "c514fe06-02e9-4a4d-8515-ff1514ecd1d6",
   "metadata": {},
   "source": [
    "example 3"
   ]
  },
  {
   "cell_type": "code",
   "execution_count": 121,
   "id": "5808a650-1846-4cf7-99f8-791fc376d0ed",
   "metadata": {},
   "outputs": [
    {
     "name": "stdout",
     "output_type": "stream",
     "text": [
      "<class 'float'>\n",
      "<class 'float'>\n",
      "<class 'float'>\n"
     ]
    }
   ],
   "source": [
    "x = 1.10\n",
    "y = 1.0\n",
    "z = -35.59\n",
    "print(type(x))\n",
    "print(type(y))\n",
    "print(type(z))"
   ]
  },
  {
   "cell_type": "markdown",
   "id": "8858a00d-8433-44d0-8e18-18ab425981f4",
   "metadata": {},
   "source": [
    "example 4"
   ]
  },
  {
   "cell_type": "code",
   "execution_count": 124,
   "id": "a608de49-0e3a-4556-952c-1da1bfcb17d5",
   "metadata": {},
   "outputs": [
    {
     "name": "stdout",
     "output_type": "stream",
     "text": [
      "<class 'float'>\n",
      "<class 'float'>\n",
      "<class 'float'>\n"
     ]
    }
   ],
   "source": [
    "x = 35e3\n",
    "y = 12E4\n",
    "z = -87.7e100\n",
    "\n",
    "print(type(x))\n",
    "print(type(y))\n",
    "print(type(z))"
   ]
  },
  {
   "cell_type": "markdown",
   "id": "8d618d74-cff1-4295-89ff-b12ac1c54604",
   "metadata": {},
   "source": [
    "example 5"
   ]
  },
  {
   "cell_type": "code",
   "execution_count": 126,
   "id": "c88ee281-9e02-4501-a352-9b6cae44b0fe",
   "metadata": {},
   "outputs": [
    {
     "name": "stdout",
     "output_type": "stream",
     "text": [
      "<class 'complex'>\n",
      "<class 'complex'>\n",
      "<class 'complex'>\n"
     ]
    }
   ],
   "source": [
    "x = 3+5j\n",
    "y = 5j\n",
    "z = -5j\n",
    "print(type(x))\n",
    "print(type(y))\n",
    "print(type(z))\n"
   ]
  },
  {
   "cell_type": "markdown",
   "id": "7848e599-5ec3-4d4a-b561-305b919d5ad6",
   "metadata": {},
   "source": [
    "example 6"
   ]
  },
  {
   "cell_type": "code",
   "execution_count": 128,
   "id": "92b8256f-3803-4c1b-a9ab-926925099a1e",
   "metadata": {},
   "outputs": [
    {
     "name": "stdout",
     "output_type": "stream",
     "text": [
      "1.0\n",
      "2\n",
      "(1+0j)\n",
      "<class 'float'>\n",
      "<class 'int'>\n",
      "<class 'complex'>\n"
     ]
    }
   ],
   "source": [
    "x = 1    \n",
    "y = 2.8  \n",
    "z = 1j   \n",
    "a = float(x)\n",
    "b = int(y)\n",
    "c = complex(x)\n",
    "print(a)\n",
    "print(b)\n",
    "print(c)\n",
    "print(type(a))\n",
    "print(type(b))\n",
    "print(type(c))"
   ]
  },
  {
   "cell_type": "markdown",
   "id": "d63614b1-15bb-4381-8f85-e0495b3bfaf0",
   "metadata": {},
   "source": [
    "example 7"
   ]
  },
  {
   "cell_type": "markdown",
   "id": "484bf375-2d1a-435b-b2d5-9c0bb4e7c3dc",
   "metadata": {},
   "source": [
    "import random\n",
    "print(random.randrange(1,10))"
   ]
  },
  {
   "cell_type": "markdown",
   "id": "fca620ca-629e-4f57-a249-67a8a3717aa6",
   "metadata": {},
   "source": [
    "Python Casting"
   ]
  },
  {
   "cell_type": "markdown",
   "id": "8415c10c-f762-43da-85d0-f5541c7b2945",
   "metadata": {},
   "source": [
    "example 1"
   ]
  },
  {
   "cell_type": "code",
   "execution_count": 134,
   "id": "90adaf43-34f9-417a-884c-460252f87a57",
   "metadata": {},
   "outputs": [
    {
     "name": "stdout",
     "output_type": "stream",
     "text": [
      "1\n",
      "2\n",
      "3\n"
     ]
    }
   ],
   "source": [
    "x = int(1)\n",
    "y = int(2.8)\n",
    "z = int(\"3\")\n",
    "print(x)\n",
    "print(y)\n",
    "print(z)"
   ]
  },
  {
   "cell_type": "markdown",
   "id": "fb390bcb-3771-4648-ad48-ed75af5e65b6",
   "metadata": {},
   "source": [
    "example 2"
   ]
  },
  {
   "cell_type": "code",
   "execution_count": 136,
   "id": "ef0c86a1-bad8-4b1e-8953-023b5a9be641",
   "metadata": {},
   "outputs": [
    {
     "name": "stdout",
     "output_type": "stream",
     "text": [
      "1.0\n",
      "2.8\n",
      "3.0\n",
      "4.2\n"
     ]
    }
   ],
   "source": [
    "x = float(1)\n",
    "y = float(2.8)\n",
    "z = float(\"3\")\n",
    "w = float(\"4.2\")\n",
    "print(x)\n",
    "print(y)\n",
    "print(z)\n",
    "print(w)"
   ]
  },
  {
   "cell_type": "markdown",
   "id": "d9a2eada-73d1-4d7a-b232-7dd6b340f74a",
   "metadata": {},
   "source": [
    "example 3"
   ]
  },
  {
   "cell_type": "code",
   "execution_count": 138,
   "id": "f498fb3b-66a8-4754-aae8-7a223bb7dbc9",
   "metadata": {},
   "outputs": [
    {
     "name": "stdout",
     "output_type": "stream",
     "text": [
      "s1\n",
      "2\n",
      "3.0\n"
     ]
    }
   ],
   "source": [
    "x = str(\"s1\")\n",
    "y = str(2)\n",
    "z = str(3.0)\n",
    "print(x)\n",
    "print(y)\n",
    "print(z)"
   ]
  },
  {
   "cell_type": "markdown",
   "id": "56a0ecf6-6137-432a-827b-d60ff7077672",
   "metadata": {},
   "source": [
    "Python Strings"
   ]
  },
  {
   "cell_type": "markdown",
   "id": "d4ba1446-f2c8-4932-88b5-e251613daec5",
   "metadata": {},
   "source": [
    "example 1"
   ]
  },
  {
   "cell_type": "code",
   "execution_count": 140,
   "id": "db322254-899c-4a2c-bda6-28abdcf3ca34",
   "metadata": {},
   "outputs": [
    {
     "name": "stdout",
     "output_type": "stream",
     "text": [
      "Hello\n",
      "Hello\n"
     ]
    }
   ],
   "source": [
    "print(\"Hello\")\n",
    "print('Hello')"
   ]
  },
  {
   "cell_type": "markdown",
   "id": "0aedf602-ab11-47b0-81ac-71b424481380",
   "metadata": {},
   "source": [
    "example 2"
   ]
  },
  {
   "cell_type": "code",
   "execution_count": 142,
   "id": "0234c1c2-d172-40ea-b42e-9a1348b298ef",
   "metadata": {},
   "outputs": [
    {
     "name": "stdout",
     "output_type": "stream",
     "text": [
      "It's alright\n",
      "He is called 'Johnny'\n",
      "He is called \"Johnny\"\n"
     ]
    }
   ],
   "source": [
    "print(\"It's alright\")\n",
    "print(\"He is called 'Johnny'\")\n",
    "print('He is called \"Johnny\"')"
   ]
  },
  {
   "cell_type": "markdown",
   "id": "958cd950-e1c4-4047-8d27-b4b5c09d5697",
   "metadata": {},
   "source": [
    "example 3"
   ]
  },
  {
   "cell_type": "code",
   "execution_count": 144,
   "id": "ae1c7459-1f45-46dc-9b56-5e976b940d1e",
   "metadata": {},
   "outputs": [
    {
     "name": "stdout",
     "output_type": "stream",
     "text": [
      "Hello\n"
     ]
    }
   ],
   "source": [
    "a = \"Hello\"\n",
    "print(a)"
   ]
  },
  {
   "cell_type": "markdown",
   "id": "6f13c5a7-a71b-43a2-aaa6-be252edef235",
   "metadata": {},
   "source": [
    "example 4"
   ]
  },
  {
   "cell_type": "code",
   "execution_count": 146,
   "id": "31817f8d-c590-400e-91bd-3741662542da",
   "metadata": {},
   "outputs": [
    {
     "name": "stdout",
     "output_type": "stream",
     "text": [
      "hello world\n"
     ]
    }
   ],
   "source": [
    "a = \"\"\"hello world\"\"\"\n",
    "print(a)\n"
   ]
  },
  {
   "cell_type": "markdown",
   "id": "bc46485a-38cb-4139-bbb0-c7bdaff902c7",
   "metadata": {},
   "source": [
    "example 5"
   ]
  },
  {
   "cell_type": "code",
   "execution_count": 148,
   "id": "c1bdd7f6-1661-4830-b0dd-e9bffa894d9f",
   "metadata": {},
   "outputs": [
    {
     "name": "stdout",
     "output_type": "stream",
     "text": [
      "hello world\n"
     ]
    }
   ],
   "source": [
    "a = '''hello world'''\n",
    "print(a)\n"
   ]
  },
  {
   "cell_type": "markdown",
   "id": "854c0b53-fbc6-48ab-bd3c-6c6b743eb629",
   "metadata": {},
   "source": [
    "example 6"
   ]
  },
  {
   "cell_type": "code",
   "execution_count": 152,
   "id": "05e0f29d-0d3c-42a2-b9d0-2f00a6b07398",
   "metadata": {},
   "outputs": [
    {
     "name": "stdout",
     "output_type": "stream",
     "text": [
      "e\n"
     ]
    }
   ],
   "source": [
    "a = \"Hello, World!\"\n",
    "print(a[1])"
   ]
  },
  {
   "cell_type": "markdown",
   "id": "1dc53e2a-4ae2-4d15-b7a3-78b185df4379",
   "metadata": {},
   "source": [
    "example 7"
   ]
  },
  {
   "cell_type": "code",
   "execution_count": 154,
   "id": "91fbc923-61d0-48ab-bedc-8e3a7f8a93eb",
   "metadata": {},
   "outputs": [
    {
     "name": "stdout",
     "output_type": "stream",
     "text": [
      "b\n",
      "a\n",
      "n\n",
      "a\n",
      "n\n",
      "a\n"
     ]
    }
   ],
   "source": [
    "for x in \"banana\":\n",
    "  print(x) "
   ]
  },
  {
   "cell_type": "markdown",
   "id": "76c7c912-c704-47b0-ad9c-1f056005b792",
   "metadata": {},
   "source": [
    "example 8"
   ]
  },
  {
   "cell_type": "code",
   "execution_count": 156,
   "id": "779e36fa-cfb9-46f7-9b6c-3d77e99b2686",
   "metadata": {},
   "outputs": [
    {
     "name": "stdout",
     "output_type": "stream",
     "text": [
      "13\n"
     ]
    }
   ],
   "source": [
    "a = \"Hello, World!\"\n",
    "print(len(a))"
   ]
  },
  {
   "cell_type": "markdown",
   "id": "c553a65c-7da9-425b-88b9-f5e41210015e",
   "metadata": {},
   "source": [
    "example 9"
   ]
  },
  {
   "cell_type": "code",
   "execution_count": 158,
   "id": "3d727b73-36ac-4179-9ee9-96835b2a0a83",
   "metadata": {},
   "outputs": [
    {
     "name": "stdout",
     "output_type": "stream",
     "text": [
      "True\n"
     ]
    }
   ],
   "source": [
    "txt = \"The best things in life are free!\"\n",
    "print(\"free\" in txt)"
   ]
  },
  {
   "cell_type": "markdown",
   "id": "85015d30-188a-4498-ac34-a521d1ca5be8",
   "metadata": {},
   "source": [
    "example 10"
   ]
  },
  {
   "cell_type": "code",
   "execution_count": 160,
   "id": "34d52f79-5b43-49cb-a86c-4a1e9c391761",
   "metadata": {},
   "outputs": [
    {
     "name": "stdout",
     "output_type": "stream",
     "text": [
      "Yes, 'free' is present.\n"
     ]
    }
   ],
   "source": [
    "txt = \"The best things in life are free!\"\n",
    "if \"free\" in txt:\n",
    "  print(\"Yes, 'free' is present.\")"
   ]
  },
  {
   "cell_type": "markdown",
   "id": "43b46ae1-6bb4-4897-bcdc-d959a866cf06",
   "metadata": {},
   "source": [
    "example 11"
   ]
  },
  {
   "cell_type": "code",
   "execution_count": 162,
   "id": "521747f1-8f43-4fce-81a9-29414a5d1186",
   "metadata": {},
   "outputs": [
    {
     "name": "stdout",
     "output_type": "stream",
     "text": [
      "True\n"
     ]
    }
   ],
   "source": [
    "txt = \"The best things in life are free!\"\n",
    "print(\"expensive\" not in txt)"
   ]
  },
  {
   "cell_type": "markdown",
   "id": "5d2af8f9-0306-4aea-9a5a-c4ef2cae39b8",
   "metadata": {},
   "source": [
    "example 12"
   ]
  },
  {
   "cell_type": "code",
   "execution_count": 166,
   "id": "57fbc214-b594-4f8b-9c0d-e8530656082c",
   "metadata": {},
   "outputs": [
    {
     "name": "stdout",
     "output_type": "stream",
     "text": [
      "No, 'expensive' is notpresent.\n"
     ]
    }
   ],
   "source": [
    "txt = \"The best things in life are free!\"\n",
    "if \"expensive\" not in txt:\n",
    "  print(\"No, 'expensive' is notpresent.\")"
   ]
  },
  {
   "cell_type": "markdown",
   "id": "df0c9004-a274-4429-96a9-473db90a017e",
   "metadata": {},
   "source": [
    "Python - Slicing Strings"
   ]
  },
  {
   "cell_type": "markdown",
   "id": "a2bc7e27-df92-40c5-b530-b2a65a953be3",
   "metadata": {},
   "source": [
    "example 1"
   ]
  },
  {
   "cell_type": "code",
   "execution_count": 168,
   "id": "2238f647-c233-4ff5-b972-bee753936fa9",
   "metadata": {},
   "outputs": [
    {
     "name": "stdout",
     "output_type": "stream",
     "text": [
      "llo\n"
     ]
    }
   ],
   "source": [
    "b = \"Hello, World!\"\n",
    "print(b[2:5])"
   ]
  },
  {
   "cell_type": "markdown",
   "id": "3b6049a8-3cff-4b7e-8cfd-6e9566dc0564",
   "metadata": {},
   "source": [
    "example 2"
   ]
  },
  {
   "cell_type": "code",
   "execution_count": 170,
   "id": "2cbe5c93-4e60-4648-8bdd-434e8bceb8b3",
   "metadata": {},
   "outputs": [
    {
     "name": "stdout",
     "output_type": "stream",
     "text": [
      "Hello\n"
     ]
    }
   ],
   "source": [
    "b = \"Hello, World!\"\n",
    "print(b[:5])"
   ]
  },
  {
   "cell_type": "markdown",
   "id": "d887c2be-58e7-4d68-a227-b58080e3bed3",
   "metadata": {},
   "source": [
    "example 3"
   ]
  },
  {
   "cell_type": "code",
   "execution_count": 172,
   "id": "9e718275-df83-47f2-9177-13b373289907",
   "metadata": {},
   "outputs": [
    {
     "name": "stdout",
     "output_type": "stream",
     "text": [
      "orl\n"
     ]
    }
   ],
   "source": [
    "b = \"Hello, World!\"\n",
    "print(b[-5:-2])"
   ]
  },
  {
   "cell_type": "markdown",
   "id": "45981d0b-bd8a-40c5-9bdc-71fd76685496",
   "metadata": {},
   "source": [
    "Python - Modify Strings"
   ]
  },
  {
   "cell_type": "markdown",
   "id": "ae42ae33-302f-43b3-b42b-6c8aa4a35c64",
   "metadata": {},
   "source": [
    "example 1"
   ]
  },
  {
   "cell_type": "code",
   "execution_count": 174,
   "id": "ca5da3cf-37a2-4715-83d1-21d61a9a6ba3",
   "metadata": {},
   "outputs": [
    {
     "name": "stdout",
     "output_type": "stream",
     "text": [
      "HELLO, WORLD!\n"
     ]
    }
   ],
   "source": [
    "a = \"Hello, World!\"\n",
    "print(a.upper())"
   ]
  },
  {
   "cell_type": "markdown",
   "id": "9c8a2678-9c2b-4abb-919c-84cc50ba78ff",
   "metadata": {},
   "source": [
    "example 2"
   ]
  },
  {
   "cell_type": "code",
   "execution_count": 176,
   "id": "2eb810bd-b736-438e-b8d0-911d6dc30cf7",
   "metadata": {},
   "outputs": [
    {
     "name": "stdout",
     "output_type": "stream",
     "text": [
      "hello, world!\n"
     ]
    }
   ],
   "source": [
    "a = \"Hello, World!\"\n",
    "print(a.lower())"
   ]
  },
  {
   "cell_type": "markdown",
   "id": "754b557f-1934-4943-a2a4-0bcd31d298a2",
   "metadata": {},
   "source": [
    "example 3"
   ]
  },
  {
   "cell_type": "code",
   "execution_count": 182,
   "id": "214f8a1f-5022-416d-9289-4386a0be093d",
   "metadata": {},
   "outputs": [
    {
     "name": "stdout",
     "output_type": "stream",
     "text": [
      "Hello,  World!\n"
     ]
    }
   ],
   "source": [
    "a = \" Hello,  World! \"\n",
    "print(a.strip()) "
   ]
  },
  {
   "cell_type": "markdown",
   "id": "576e9898-948a-4936-9430-44bb67a4b307",
   "metadata": {},
   "source": [
    "example 4"
   ]
  },
  {
   "cell_type": "code",
   "execution_count": 184,
   "id": "21e7f9e9-7baa-47f2-9380-233403dcfee5",
   "metadata": {},
   "outputs": [
    {
     "name": "stdout",
     "output_type": "stream",
     "text": [
      "Jello, World!\n"
     ]
    }
   ],
   "source": [
    "a = \"Hello, World!\"\n",
    "print(a.replace(\"H\", \"J\"))"
   ]
  },
  {
   "cell_type": "markdown",
   "id": "161bc1db-b7d8-4aa9-bf04-eee1cd780fea",
   "metadata": {},
   "source": [
    "example 5"
   ]
  },
  {
   "cell_type": "code",
   "execution_count": 186,
   "id": "3209dcbd-18b0-40a8-ad76-88a5c59926b8",
   "metadata": {},
   "outputs": [
    {
     "name": "stdout",
     "output_type": "stream",
     "text": [
      "['Hello', ' World!']\n"
     ]
    }
   ],
   "source": [
    "a = \"Hello, World!\"\n",
    "print(a.split(\",\"))"
   ]
  },
  {
   "cell_type": "markdown",
   "id": "470eee86-c562-4be5-a220-6f9517d98cb4",
   "metadata": {},
   "source": [
    "Python - String Concatenation"
   ]
  },
  {
   "cell_type": "markdown",
   "id": "973144da-d551-4d4e-8bc6-bcb57c092a2d",
   "metadata": {},
   "source": [
    "example 1"
   ]
  },
  {
   "cell_type": "code",
   "execution_count": 190,
   "id": "fd1ccc93-d425-4d93-8b82-18f398796338",
   "metadata": {},
   "outputs": [
    {
     "name": "stdout",
     "output_type": "stream",
     "text": [
      "HelloWorld\n"
     ]
    }
   ],
   "source": [
    "a = \"Hello\"\n",
    "b = \"World\"\n",
    "c = a + b\n",
    "print(c)"
   ]
  },
  {
   "cell_type": "markdown",
   "id": "f9b325d1-fa24-4f2d-97d2-32d7e5468bff",
   "metadata": {},
   "source": [
    "example 2"
   ]
  },
  {
   "cell_type": "code",
   "execution_count": 192,
   "id": "a7d209a7-bc98-44e9-acb6-e4f126c0b20f",
   "metadata": {},
   "outputs": [
    {
     "name": "stdout",
     "output_type": "stream",
     "text": [
      "Hello World\n"
     ]
    }
   ],
   "source": [
    "a = \"Hello\"\n",
    "b = \"World\"\n",
    "c = a + \" \" + b\n",
    "print(c)"
   ]
  },
  {
   "cell_type": "markdown",
   "id": "f2a5dab6-3f76-4642-8e72-14649fb17b4e",
   "metadata": {},
   "source": [
    "Python - Format - Strings"
   ]
  },
  {
   "cell_type": "markdown",
   "id": "e3fecb39-61ff-4b57-b693-548af0e4f77d",
   "metadata": {},
   "source": [
    "example 1"
   ]
  },
  {
   "cell_type": "code",
   "execution_count": 196,
   "id": "e879d013-00e0-4f2b-a7f7-0851c85f4d4e",
   "metadata": {},
   "outputs": [
    {
     "name": "stdout",
     "output_type": "stream",
     "text": [
      "the price is 59 dollar\n"
     ]
    }
   ],
   "source": [
    "price =59\n",
    "txt=f\"the price is {price} dollar\"\n",
    "print(txt)"
   ]
  },
  {
   "cell_type": "markdown",
   "id": "ca0d1966-9bfc-4c95-aed4-f06025e6a29a",
   "metadata": {},
   "source": [
    "example 2"
   ]
  },
  {
   "cell_type": "code",
   "execution_count": 198,
   "id": "79299657-951b-4931-a991-abe7f2b2725c",
   "metadata": {},
   "outputs": [
    {
     "name": "stdout",
     "output_type": "stream",
     "text": [
      "The price is 59.00 dollars\n"
     ]
    }
   ],
   "source": [
    "price = 59\n",
    "txt = f\"The price is {price:.2f} dollars\"\n",
    "print(txt)"
   ]
  },
  {
   "cell_type": "markdown",
   "id": "ba72d300-09a7-474a-ad5c-44f662117f0c",
   "metadata": {},
   "source": [
    "example 3"
   ]
  },
  {
   "cell_type": "code",
   "execution_count": 200,
   "id": "5a884e3f-5575-4a63-bb48-1aa528069b20",
   "metadata": {},
   "outputs": [
    {
     "name": "stdout",
     "output_type": "stream",
     "text": [
      "The price is 1180 dollars\n"
     ]
    }
   ],
   "source": [
    "txt = f\"The price is {20 * 59} dollars\"\n",
    "print(txt)"
   ]
  },
  {
   "cell_type": "markdown",
   "id": "100c8a91-2427-4d02-a642-7f4899ab71fb",
   "metadata": {},
   "source": [
    "Python - Escape Characters"
   ]
  },
  {
   "cell_type": "markdown",
   "id": "bc5f1d0d-a181-4caa-b9e0-3bfbc8dfe55a",
   "metadata": {},
   "source": [
    "example 1"
   ]
  },
  {
   "cell_type": "code",
   "execution_count": 202,
   "id": "44779be7-978b-4451-87ba-e7fada8bdb9c",
   "metadata": {},
   "outputs": [
    {
     "name": "stdout",
     "output_type": "stream",
     "text": [
      "We are the so-called \"Vikings\" from the north.\n"
     ]
    }
   ],
   "source": [
    "txt = \"We are the so-called \\\"Vikings\\\" from the north.\"\n",
    "print(txt) "
   ]
  },
  {
   "cell_type": "markdown",
   "id": "63a0f045-b783-4de1-bda9-23ae510ce36d",
   "metadata": {},
   "source": [
    "example 2"
   ]
  },
  {
   "cell_type": "code",
   "execution_count": 204,
   "id": "189ab5d6-28d7-4113-9a62-19bd404ee612",
   "metadata": {},
   "outputs": [
    {
     "name": "stdout",
     "output_type": "stream",
     "text": [
      "It's alright.\n"
     ]
    }
   ],
   "source": [
    "txt = 'It\\'s alright.'\n",
    "print(txt)"
   ]
  },
  {
   "cell_type": "markdown",
   "id": "02ee4819-fa88-4777-80ac-0db2b54f918e",
   "metadata": {},
   "source": [
    "example 3"
   ]
  },
  {
   "cell_type": "code",
   "execution_count": 206,
   "id": "fd60e22c-13c5-4b7c-a50b-2e0dfe922941",
   "metadata": {},
   "outputs": [
    {
     "name": "stdout",
     "output_type": "stream",
     "text": [
      "This will insert one \\ (backslash).\n"
     ]
    }
   ],
   "source": [
    "txt = \"This will insert one \\\\ (backslash).\"\n",
    "print(txt)"
   ]
  },
  {
   "cell_type": "markdown",
   "id": "d46892ef-d87c-47d8-9774-cec9d620d2b9",
   "metadata": {},
   "source": [
    "example 4"
   ]
  },
  {
   "cell_type": "code",
   "execution_count": 208,
   "id": "8a562599-3126-48f6-8c61-ac2a99e958aa",
   "metadata": {},
   "outputs": [
    {
     "name": "stdout",
     "output_type": "stream",
     "text": [
      "Hello\n",
      "World!\n"
     ]
    }
   ],
   "source": [
    "txt = \"Hello\\nWorld!\"\n",
    "print(txt)"
   ]
  },
  {
   "cell_type": "markdown",
   "id": "894be61e-e4c5-4fce-9808-45f52c9951b4",
   "metadata": {},
   "source": [
    "example 5"
   ]
  },
  {
   "cell_type": "code",
   "execution_count": 210,
   "id": "813447ec-8605-4ea2-964b-cfd072b2a066",
   "metadata": {},
   "outputs": [
    {
     "name": "stdout",
     "output_type": "stream",
     "text": [
      "HelloWorld!\n"
     ]
    }
   ],
   "source": [
    "txt = \"Hello \\bWorld!\"\n",
    "print(txt) "
   ]
  }
 ],
 "metadata": {
  "kernelspec": {
   "display_name": "Python [conda env:base] *",
   "language": "python",
   "name": "conda-base-py"
  },
  "language_info": {
   "codemirror_mode": {
    "name": "ipython",
    "version": 3
   },
   "file_extension": ".py",
   "mimetype": "text/x-python",
   "name": "python",
   "nbconvert_exporter": "python",
   "pygments_lexer": "ipython3",
   "version": "3.12.7"
  }
 },
 "nbformat": 4,
 "nbformat_minor": 5
}
