{
 "cells": [
  {
   "cell_type": "markdown",
   "id": "75ce2402-e7a8-4391-828b-8297a451bc7b",
   "metadata": {},
   "source": [
    "Function 1"
   ]
  },
  {
   "cell_type": "markdown",
   "id": "a7cfe9e9-31e3-4cc0-a3c2-3e7c2ab0d45d",
   "metadata": {},
   "source": [
    "exercise 1"
   ]
  },
  {
   "cell_type": "code",
   "execution_count": 136,
   "id": "2359b154-0bf9-4368-9383-564937029cc1",
   "metadata": {},
   "outputs": [
    {
     "name": "stdin",
     "output_type": "stream",
     "text": [
      "grams:  23\n"
     ]
    },
    {
     "name": "stdout",
     "output_type": "stream",
     "text": [
      "652.04\n"
     ]
    }
   ],
   "source": [
    "def ounces(g):\n",
    "    return g * 28.3495231\n",
    "g = float(input(\"grams: \"))\n",
    "ounces = ounces(g)\n",
    "print(f\"{ounces:.2f}\")"
   ]
  },
  {
   "cell_type": "markdown",
   "id": "dcf3307e-b117-4fcf-a2a1-84d966e86183",
   "metadata": {},
   "source": [
    "exercise 2"
   ]
  },
  {
   "cell_type": "code",
   "execution_count": 144,
   "id": "fbf19151-22e5-4806-88f8-724afb7d446f",
   "metadata": {},
   "outputs": [
    {
     "name": "stdin",
     "output_type": "stream",
     "text": [
      " 23\n"
     ]
    },
    {
     "name": "stdout",
     "output_type": "stream",
     "text": [
      "-5.00\n"
     ]
    }
   ],
   "source": [
    "def temp(F):\n",
    "    return (5 / 9) * (F - 32)\n",
    "F=float(input())\n",
    "C=temp(F)\n",
    "print(f\"{C:.2f}\")"
   ]
  },
  {
   "cell_type": "markdown",
   "id": "b2d69a6d-5b72-4988-82d0-bb7f9c5579cd",
   "metadata": {},
   "source": [
    "exercise 3"
   ]
  },
  {
   "cell_type": "code",
   "execution_count": 3,
   "id": "d2704b69-82d1-4537-a837-73e448c68735",
   "metadata": {},
   "outputs": [
    {
     "name": "stdout",
     "output_type": "stream",
     "text": [
      "Chic: 23, Rab: 12\n"
     ]
    }
   ],
   "source": [
    "def solve(head, leg):\n",
    "    for chic in range(head + 1):\n",
    "        rab = head - chic  \n",
    "        if 2 * chic + 4 * rab == leg:  \n",
    "            return chic, rab\n",
    "head = 35\n",
    "leg = 94\n",
    "chic, rab = solve(head, leg)\n",
    "print(f\"Chic: {chic}, Rab: {rab}\")"
   ]
  },
  {
   "cell_type": "markdown",
   "id": "167e05b5-b574-48c9-a695-65d019aac433",
   "metadata": {},
   "source": [
    "exercise 4"
   ]
  },
  {
   "cell_type": "code",
   "execution_count": 11,
   "id": "1dc7801c-57d3-40a7-84c5-af09057277fc",
   "metadata": {},
   "outputs": [
    {
     "name": "stdout",
     "output_type": "stream",
     "text": [
      "Primenum: [2, 3, 2, 17, 11]\n"
     ]
    }
   ],
   "source": [
    "def is_prime(n):\n",
    "    if n < 2:\n",
    "        return False\n",
    "    for i in range(2, n):\n",
    "        if n % i == 0:\n",
    "            return False\n",
    "    return True\n",
    "def filter_prime(numbers):\n",
    "    return [num for num in numbers if is_prime(num)]\n",
    "numbers = [2, 12,3,2,4,34,15,17,11]\n",
    "prime_numbers = filter_prime(numbers)\n",
    "print(\"Primenum:\", prime_numbers)"
   ]
  },
  {
   "cell_type": "markdown",
   "id": "d6d56f57-0b9e-43d9-a7a4-2b31dd189a35",
   "metadata": {},
   "source": [
    "exercise 5"
   ]
  },
  {
   "cell_type": "code",
   "execution_count": 39,
   "id": "fb27d9a6-8d71-40f6-aa1a-6e22e0f87bed",
   "metadata": {},
   "outputs": [
    {
     "name": "stdin",
     "output_type": "stream",
     "text": [
      "Enter   dfg\n"
     ]
    },
    {
     "name": "stdout",
     "output_type": "stream",
     "text": [
      "('d', 'f', 'g')\n",
      "('d', 'g', 'f')\n",
      "('f', 'd', 'g')\n",
      "('f', 'g', 'd')\n",
      "('g', 'd', 'f')\n",
      "('g', 'f', 'd')\n"
     ]
    }
   ],
   "source": [
    "from itertools import permutations\n",
    "def strin(s):\n",
    "    perm_list = permutations(s) \n",
    "    for perm in perm_list:\n",
    "      print(perm)\n",
    "s = input(\"Enter  \")\n",
    "strin(s)"
   ]
  },
  {
   "cell_type": "markdown",
   "id": "853c5d1f-ae8b-470e-a8b7-143f3930d647",
   "metadata": {},
   "source": [
    "exercise 6"
   ]
  },
  {
   "cell_type": "code",
   "execution_count": 41,
   "id": "eb9c7e8e-93b0-4dbf-8f47-9b0c2ac57382",
   "metadata": {},
   "outputs": [
    {
     "name": "stdout",
     "output_type": "stream",
     "text": [
      "ready are We\n"
     ]
    }
   ],
   "source": [
    "def reverse(sentence):\n",
    "    return \" \".join(sentence.split()[::-1])\n",
    "print(reverse(\"We are ready\"))"
   ]
  },
  {
   "cell_type": "markdown",
   "id": "5d75f9fd-7611-45ff-9df8-5545c8b35414",
   "metadata": {},
   "source": [
    "exercise 7"
   ]
  },
  {
   "cell_type": "code",
   "execution_count": 45,
   "id": "5275b226-7d71-412d-a304-bcc98304e8d1",
   "metadata": {},
   "outputs": [
    {
     "name": "stdout",
     "output_type": "stream",
     "text": [
      "True\n",
      "False\n"
     ]
    }
   ],
   "source": [
    "def have33(nums):\n",
    "    for i in range(len(nums) - 1): \n",
    "        if nums[i] == 3 and nums[i + 1] == 3: \n",
    "            return True\n",
    "    return False  \n",
    "print(have33([1, 3, 3]))  \n",
    "print(have33([1, 3, 1, 3]))  "
   ]
  },
  {
   "cell_type": "markdown",
   "id": "4cdaf5c9-b092-4290-bef6-c688f6147dae",
   "metadata": {},
   "source": [
    "exercise 8"
   ]
  },
  {
   "cell_type": "code",
   "execution_count": 47,
   "id": "bc1116dd-273c-4a79-9b89-9a0c6d683eba",
   "metadata": {},
   "outputs": [
    {
     "name": "stdout",
     "output_type": "stream",
     "text": [
      "True\n"
     ]
    }
   ],
   "source": [
    "def have007(nums):\n",
    "    code = [0, 0, 7]\n",
    "    for num in nums:\n",
    "        if num == code[0]:\n",
    "            code.pop(0)\n",
    "        if not code:\n",
    "            return True\n",
    "    return False\n",
    "print(have007([1, 2, 4, 0, 0, 7, 5]))"
   ]
  },
  {
   "cell_type": "markdown",
   "id": "c79711d6-c959-4576-a7f9-2c9b0a6aec32",
   "metadata": {},
   "source": [
    "ecercise 9"
   ]
  },
  {
   "cell_type": "code",
   "execution_count": 51,
   "id": "cacd7a13-a5cc-4e95-b42c-eaf99e267904",
   "metadata": {},
   "outputs": [
    {
     "name": "stdout",
     "output_type": "stream",
     "text": [
      "523.3333333333334\n"
     ]
    }
   ],
   "source": [
    "def volume(radius):\n",
    "    return (4 / 3) * 3.14 * (radius ** 3)\n",
    "print(volume(5))"
   ]
  },
  {
   "cell_type": "markdown",
   "id": "5a6f6619-d7b0-44f1-8202-2573f2f06040",
   "metadata": {},
   "source": [
    "exercise 10"
   ]
  },
  {
   "cell_type": "code",
   "execution_count": 53,
   "id": "61d96b05-4ea2-499c-a804-2fc0216b5da5",
   "metadata": {},
   "outputs": [
    {
     "name": "stdout",
     "output_type": "stream",
     "text": [
      "[1, 2, 5, 7, 3]\n"
     ]
    }
   ],
   "source": [
    "def unique(lst):\n",
    "    unique_lst = []\n",
    "    for item in lst:\n",
    "        if item not in unique_lst:\n",
    "            unique_lst.append(item)\n",
    "    return unique_lst\n",
    "print(unique([1, 2,5,7,3, 5]))"
   ]
  },
  {
   "cell_type": "code",
   "execution_count": null,
   "id": "0e7243d7-9f1c-4ff3-b5a9-9d0253f919cb",
   "metadata": {},
   "outputs": [],
   "source": [
    "exercise 11"
   ]
  },
  {
   "cell_type": "code",
   "execution_count": 59,
   "id": "ce9adef8-2b37-4554-b27c-864375ff0a1a",
   "metadata": {},
   "outputs": [
    {
     "name": "stdout",
     "output_type": "stream",
     "text": [
      "True\n"
     ]
    }
   ],
   "source": [
    "def palindrome(word):\n",
    "    return word == word[::-1]\n",
    "print(palindrome(\"madam\"))"
   ]
  },
  {
   "cell_type": "markdown",
   "id": "a2e7401e-a777-47e1-b3d7-bded8b0e22d7",
   "metadata": {},
   "source": [
    "exercise 12"
   ]
  },
  {
   "cell_type": "code",
   "execution_count": 189,
   "id": "98228572-4df5-41df-b31f-c409a3a56600",
   "metadata": {},
   "outputs": [
    {
     "name": "stdout",
     "output_type": "stream",
     "text": [
      "****\n",
      "*********\n",
      "*******\n"
     ]
    }
   ],
   "source": [
    "def histogram(lst):\n",
    "    for num in lst:\n",
    "        print(\"*\" * num)\n",
    "histogram([4, 9, 7])"
   ]
  },
  {
   "cell_type": "markdown",
   "id": "f8c12722-b789-415b-acfe-88b399bd720e",
   "metadata": {},
   "source": [
    "excercise 13"
   ]
  },
  {
   "cell_type": "code",
   "execution_count": 71,
   "id": "d173c9f3-22d8-487a-ac63-9391a6fbcc33",
   "metadata": {},
   "outputs": [
    {
     "name": "stdin",
     "output_type": "stream",
     "text": [
      "number 14\n"
     ]
    },
    {
     "name": "stdout",
     "output_type": "stream",
     "text": [
      "you are right\n"
     ]
    }
   ],
   "source": [
    "import random\n",
    "def guess_the_number():\n",
    "    guess = random.randint(1, 20)\n",
    "    guesses_taken = 0\n",
    "    while True:\n",
    "        guess = int(input(\"number\"))\n",
    "        guesses_taken += 1\n",
    "        if guess < guess:\n",
    "            print(\"too low.\")\n",
    "        elif guess > guess:\n",
    "            print(\"too high.\")\n",
    "        else:\n",
    "            print(\"you are right\")\n",
    "            break\n",
    "guess_the_number()"
   ]
  }
 ],
 "metadata": {
  "kernelspec": {
   "display_name": "Python [conda env:base] *",
   "language": "python",
   "name": "conda-base-py"
  },
  "language_info": {
   "codemirror_mode": {
    "name": "ipython",
    "version": 3
   },
   "file_extension": ".py",
   "mimetype": "text/x-python",
   "name": "python",
   "nbconvert_exporter": "python",
   "pygments_lexer": "ipython3",
   "version": "3.12.7"
  }
 },
 "nbformat": 4,
 "nbformat_minor": 5
}
