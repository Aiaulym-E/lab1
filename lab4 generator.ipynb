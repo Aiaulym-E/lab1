{
 "cells": [
  {
   "cell_type": "markdown",
   "id": "fdcb932c-cca2-480e-8626-9e5c811c7764",
   "metadata": {},
   "source": [
    "lab 4- generator"
   ]
  },
  {
   "cell_type": "markdown",
   "id": "d5e585d1-68d7-42cf-bbe8-8a3d662df044",
   "metadata": {},
   "source": [
    "task 1"
   ]
  },
  {
   "cell_type": "code",
   "execution_count": 35,
   "id": "ae660953-b084-4018-a7e6-4ee3ffd62744",
   "metadata": {},
   "outputs": [
    {
     "name": "stdout",
     "output_type": "stream",
     "text": [
      "0\n",
      "1\n",
      "4\n",
      "9\n",
      "16\n",
      "25\n"
     ]
    }
   ],
   "source": [
    "def square(N):\n",
    "    for num in range(N + 1):\n",
    "        yield num ** 2\n",
    "N = 5\n",
    "for square in square(N):\n",
    "    print(square)"
   ]
  },
  {
   "cell_type": "markdown",
   "id": "14b50b44-d794-4aa5-96a9-6fa478bc7acf",
   "metadata": {},
   "source": [
    "task 2"
   ]
  },
  {
   "cell_type": "code",
   "execution_count": 31,
   "id": "829dd996-c94c-4547-8b39-30aa573a8837",
   "metadata": {},
   "outputs": [
    {
     "name": "stdin",
     "output_type": "stream",
     "text": [
      "Enter 6\n"
     ]
    },
    {
     "name": "stdout",
     "output_type": "stream",
     "text": [
      "0,2,4,6\n"
     ]
    }
   ],
   "source": [
    "def even(N):\n",
    "    for num in range(0, N + 1, 2):\n",
    "        yield num\n",
    "N = int(input(\"Enter\"))\n",
    "print(\",\".join(str(num) for num in even(N)))"
   ]
  },
  {
   "cell_type": "markdown",
   "id": "e603515b-fd88-4648-884b-e4de6fd2a8bd",
   "metadata": {},
   "source": [
    "task3"
   ]
  },
  {
   "cell_type": "code",
   "execution_count": 21,
   "id": "96725820-070d-4543-b17e-560ea9290b9f",
   "metadata": {},
   "outputs": [
    {
     "name": "stdout",
     "output_type": "stream",
     "text": [
      "0\n",
      "12\n",
      "24\n",
      "36\n",
      "48\n"
     ]
    }
   ],
   "source": [
    "def divisible(N):\n",
    "    for num in range(N + 1):\n",
    "        if num % 3 == 0 and num % 4 == 0:\n",
    "            yield num\n",
    "N = 50\n",
    "for num in divisible(N):\n",
    "    print(num)"
   ]
  },
  {
   "cell_type": "markdown",
   "id": "13c3b451-63af-4ceb-853b-c9f320726615",
   "metadata": {},
   "source": [
    "task 4"
   ]
  },
  {
   "cell_type": "code",
   "execution_count": 23,
   "id": "5f9d2342-ba7f-4db5-8d65-43012a433206",
   "metadata": {},
   "outputs": [
    {
     "name": "stdout",
     "output_type": "stream",
     "text": [
      "9\n",
      "16\n",
      "25\n",
      "36\n",
      "49\n"
     ]
    }
   ],
   "source": [
    "def squares(a, b):\n",
    "    for num in range(a, b + 1):\n",
    "        yield num ** 2\n",
    "a, b = 3, 7\n",
    "for square in squares(a, b):\n",
    "    print(square)"
   ]
  },
  {
   "cell_type": "markdown",
   "id": "cbd6b400-61da-4b17-856e-09d106088fbb",
   "metadata": {},
   "source": [
    "task5 "
   ]
  },
  {
   "cell_type": "code",
   "execution_count": 25,
   "id": "63c17cce-1c71-4992-87d3-2dd5bb8b0c57",
   "metadata": {},
   "outputs": [
    {
     "name": "stdout",
     "output_type": "stream",
     "text": [
      "5\n",
      "4\n",
      "3\n",
      "2\n",
      "1\n",
      "0\n"
     ]
    }
   ],
   "source": [
    "def countdown(n):\n",
    "    while n >= 0:\n",
    "        yield n\n",
    "        n -= 1\n",
    "N = 5\n",
    "for num in countdown(N):\n",
    "    print(num)"
   ]
  },
  {
   "cell_type": "code",
   "execution_count": null,
   "id": "be493968-9149-4971-87e6-a946338b2446",
   "metadata": {},
   "outputs": [],
   "source": []
  }
 ],
 "metadata": {
  "kernelspec": {
   "display_name": "Python [conda env:base] *",
   "language": "python",
   "name": "conda-base-py"
  },
  "language_info": {
   "codemirror_mode": {
    "name": "ipython",
    "version": 3
   },
   "file_extension": ".py",
   "mimetype": "text/x-python",
   "name": "python",
   "nbconvert_exporter": "python",
   "pygments_lexer": "ipython3",
   "version": "3.12.7"
  }
 },
 "nbformat": 4,
 "nbformat_minor": 5
}
