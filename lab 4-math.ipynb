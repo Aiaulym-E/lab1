{
 "cells": [
  {
   "cell_type": "markdown",
   "id": "8dd0aaca-a831-48e0-9359-4bb559e92eaf",
   "metadata": {},
   "source": [
    "lab4 math"
   ]
  },
  {
   "cell_type": "markdown",
   "id": "0b30aa03-eb2e-4909-ae2b-a33e120d7eb2",
   "metadata": {},
   "source": [
    "task 1"
   ]
  },
  {
   "cell_type": "code",
   "execution_count": 19,
   "id": "eceaf09c-e107-4a2e-a9c1-748c7733ed23",
   "metadata": {},
   "outputs": [
    {
     "name": "stdin",
     "output_type": "stream",
     "text": [
      "degree  15\n"
     ]
    },
    {
     "name": "stdout",
     "output_type": "stream",
     "text": [
      "0.261799\n"
     ]
    }
   ],
   "source": [
    "import math\n",
    "\n",
    "def getradian(degree):\n",
    "    return degree * (math.pi / 180)\n",
    "\n",
    "degree = float(input(\"degree \"))\n",
    "radian = getradian(degree)\n",
    "\n",
    "print(round(radian,6))\n"
   ]
  },
  {
   "cell_type": "markdown",
   "id": "359138df-e745-467c-b13c-a7370dbcafb4",
   "metadata": {},
   "source": [
    "task 2"
   ]
  },
  {
   "cell_type": "code",
   "execution_count": 1,
   "id": "230ae056-6b4b-4b25-9c05-0ecefbab59b7",
   "metadata": {},
   "outputs": [
    {
     "name": "stdin",
     "output_type": "stream",
     "text": [
      "H 5\n",
      "Base1 5\n",
      "Base2 6\n"
     ]
    },
    {
     "name": "stdout",
     "output_type": "stream",
     "text": [
      "area: 27.5\n"
     ]
    }
   ],
   "source": [
    "def area(height, base1, base2):\n",
    "    return (1/2) * (base1 + base2) * height\n",
    "height = float(input(\"H\"))\n",
    "base1 = float(input(\"Base1\"))\n",
    "base2 = float(input(\"Base2\"))\n",
    "area = area(height, base1, base2)\n",
    "print(\"area:\", area)"
   ]
  },
  {
   "cell_type": "markdown",
   "id": "6a2c0ff4-a42a-48aa-866a-139ce7913a5c",
   "metadata": {},
   "source": [
    "task 3"
   ]
  },
  {
   "cell_type": "code",
   "execution_count": 25,
   "id": "24776be8-8353-4a78-b7c9-43bbb4476372",
   "metadata": {},
   "outputs": [
    {
     "name": "stdin",
     "output_type": "stream",
     "text": [
      "side:  4\n",
      "side:  25\n"
     ]
    },
    {
     "name": "stdout",
     "output_type": "stream",
     "text": [
      "area: 625.0\n"
     ]
    }
   ],
   "source": [
    "import math\n",
    "def area(sides, length):\n",
    "    return (sides * length ** 2) / (4 * math.tan(math.pi / sides))\n",
    "sides = int(input(\"side: \"))\n",
    "length = float(input(\"side: \"))\n",
    "area = area(sides, length)\n",
    "print(\"area:\", round(area, 1))"
   ]
  },
  {
   "cell_type": "markdown",
   "id": "9c22c380-cff5-4a26-82eb-97f5ae25f5b5",
   "metadata": {},
   "source": [
    "task 4"
   ]
  },
  {
   "cell_type": "code",
   "execution_count": 27,
   "id": "14f15da1-9a29-4160-8b77-97ed6cdab23c",
   "metadata": {},
   "outputs": [
    {
     "name": "stdin",
     "output_type": "stream",
     "text": [
      "Length of base:  5\n",
      "Height of parallelogram:  6\n"
     ]
    },
    {
     "name": "stdout",
     "output_type": "stream",
     "text": [
      "area: 30.0\n"
     ]
    }
   ],
   "source": [
    "def area(base, height):\n",
    "    return base * height\n",
    "base = float(input(\"Length of base: \"))\n",
    "height = float(input(\"Height of parallelogram: \"))\n",
    "area = area(base, height)\n",
    "print(\"area:\", area)"
   ]
  }
 ],
 "metadata": {
  "kernelspec": {
   "display_name": "Python [conda env:base] *",
   "language": "python",
   "name": "conda-base-py"
  },
  "language_info": {
   "codemirror_mode": {
    "name": "ipython",
    "version": 3
   },
   "file_extension": ".py",
   "mimetype": "text/x-python",
   "name": "python",
   "nbconvert_exporter": "python",
   "pygments_lexer": "ipython3",
   "version": "3.12.7"
  }
 },
 "nbformat": 4,
 "nbformat_minor": 5
}
