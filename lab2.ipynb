{
 "cells": [
  {
   "cell_type": "markdown",
   "id": "34e47045-29c6-4a2f-8ef3-35afa8d1659c",
   "metadata": {},
   "source": [
    "LAB 2"
   ]
  },
  {
   "cell_type": "markdown",
   "id": "1ae3ace7-4c13-485c-9c7d-c987fefa3fe5",
   "metadata": {},
   "source": [
    "Python Booleans"
   ]
  },
  {
   "cell_type": "markdown",
   "id": "ab1ea10d-6f2b-4062-922e-95403f9b1340",
   "metadata": {},
   "source": [
    "example 1"
   ]
  },
  {
   "cell_type": "code",
   "execution_count": 1,
   "id": "f6ab6705-1d8a-494a-bb8c-6bf01c7039f9",
   "metadata": {},
   "outputs": [
    {
     "name": "stdout",
     "output_type": "stream",
     "text": [
      "False\n",
      "False\n",
      "True\n"
     ]
    }
   ],
   "source": [
    "print(10<9)\n",
    "print(10==9)\n",
    "print(10>9)"
   ]
  },
  {
   "cell_type": "markdown",
   "id": "6c572beb-1fb6-43cb-875b-4eae5936fb1a",
   "metadata": {},
   "source": [
    "example 2"
   ]
  },
  {
   "cell_type": "code",
   "execution_count": 7,
   "id": "ecc9f2c2-31ca-41fc-8a4c-265506cbff64",
   "metadata": {},
   "outputs": [
    {
     "name": "stdout",
     "output_type": "stream",
     "text": [
      "a is greater than b\n"
     ]
    }
   ],
   "source": [
    "b=33\n",
    "a=100\n",
    "if a>b:\n",
    " print(\"a is greater than b\")\n",
    "else:\n",
    " print(\"b is greater than a\")"
   ]
  },
  {
   "cell_type": "markdown",
   "id": "6f94a139-8012-4959-80a0-ca74cf2a0676",
   "metadata": {},
   "source": [
    "example 3"
   ]
  },
  {
   "cell_type": "code",
   "execution_count": 9,
   "id": "8dd0e06d-4a7f-4f34-8a4d-aca03c11a997",
   "metadata": {},
   "outputs": [
    {
     "name": "stdout",
     "output_type": "stream",
     "text": [
      "True\n",
      "True\n"
     ]
    }
   ],
   "source": [
    "print(bool(\"hello\"))\n",
    "print(bool(15))"
   ]
  },
  {
   "cell_type": "markdown",
   "id": "7585408a-da91-4305-9760-f8b2b4080226",
   "metadata": {},
   "source": [
    "example 4"
   ]
  },
  {
   "cell_type": "code",
   "execution_count": 12,
   "id": "470273cc-7a6d-4616-9fad-2d2e6c632c4a",
   "metadata": {},
   "outputs": [
    {
     "name": "stdout",
     "output_type": "stream",
     "text": [
      "True\n",
      "True\n"
     ]
    }
   ],
   "source": [
    "x=\"hello\"\n",
    "y=15\n",
    "print(bool(x))\n",
    "print(bool(y))"
   ]
  },
  {
   "cell_type": "markdown",
   "id": "98b3b123-8d99-428f-9b40-15a019ea5a79",
   "metadata": {},
   "source": [
    "example 5"
   ]
  },
  {
   "cell_type": "code",
   "execution_count": 16,
   "id": "2bf4b4e9-2975-4fe7-a0b3-1a8f49bc7463",
   "metadata": {},
   "outputs": [
    {
     "data": {
      "text/plain": [
       "True"
      ]
     },
     "execution_count": 16,
     "metadata": {},
     "output_type": "execute_result"
    }
   ],
   "source": [
    "bool([\"apple\",\"banana\",\"cherry\"])"
   ]
  },
  {
   "cell_type": "markdown",
   "id": "940f5590-a5fe-444f-a8b1-7b81ae64cd81",
   "metadata": {},
   "source": [
    "example 6"
   ]
  },
  {
   "cell_type": "code",
   "execution_count": 26,
   "id": "6c779632-e745-4653-9c46-a87420d7d935",
   "metadata": {},
   "outputs": [
    {
     "name": "stdout",
     "output_type": "stream",
     "text": [
      "False\n",
      "False\n",
      "False\n",
      "False\n",
      "False\n",
      "False\n",
      "False\n"
     ]
    }
   ],
   "source": [
    "print(bool(False))\n",
    "print(bool(0))\n",
    "print(bool(None))\n",
    "print(bool([]))\n",
    "print(bool(''))\n",
    "print(bool(\"\"))\n",
    "print(bool({}))"
   ]
  },
  {
   "cell_type": "markdown",
   "id": "aef6d42b-6924-45ad-ab29-ce2267dfe722",
   "metadata": {},
   "source": [
    "example 8"
   ]
  },
  {
   "cell_type": "code",
   "execution_count": 71,
   "id": "636648b5-ba8c-47c5-a3f3-bd1408c9a600",
   "metadata": {},
   "outputs": [
    {
     "name": "stdout",
     "output_type": "stream",
     "text": [
      "True\n"
     ]
    }
   ],
   "source": [
    "def myFunction() :\n",
    "  return True\n",
    "\n",
    "print(myFunction())"
   ]
  },
  {
   "cell_type": "markdown",
   "id": "2a2878b5-3e7c-4683-97f0-db632afc0a25",
   "metadata": {},
   "source": [
    "example 9"
   ]
  },
  {
   "cell_type": "code",
   "execution_count": 73,
   "id": "71883acd-b16a-42e4-8d1b-4389618e6737",
   "metadata": {},
   "outputs": [
    {
     "name": "stdout",
     "output_type": "stream",
     "text": [
      "True\n"
     ]
    }
   ],
   "source": [
    "x = 200\n",
    "print(isinstance(x, int))"
   ]
  },
  {
   "cell_type": "markdown",
   "id": "a59d971f-9d52-4501-b3f4-674cda57979c",
   "metadata": {},
   "source": [
    "example 10"
   ]
  },
  {
   "cell_type": "code",
   "execution_count": 75,
   "id": "a66320be-1645-49df-b01e-73210edfee29",
   "metadata": {},
   "outputs": [
    {
     "name": "stdout",
     "output_type": "stream",
     "text": [
      "YES!\n"
     ]
    }
   ],
   "source": [
    "def myFunction() :\n",
    "  return True\n",
    "\n",
    "if myFunction():\n",
    "  print(\"YES!\")\n",
    "else:\n",
    "  print(\"NO!\")"
   ]
  },
  {
   "cell_type": "markdown",
   "id": "e7493812-0c7d-4eed-a5d3-1e80ce824de8",
   "metadata": {},
   "source": [
    "Python Operators"
   ]
  },
  {
   "cell_type": "markdown",
   "id": "71879105-df7d-4628-8df4-6551d5625007",
   "metadata": {},
   "source": [
    "example 1"
   ]
  },
  {
   "cell_type": "code",
   "execution_count": 77,
   "id": "930b5a48-3bec-4a4a-9b7a-1665eb3008f8",
   "metadata": {},
   "outputs": [
    {
     "name": "stdout",
     "output_type": "stream",
     "text": [
      "15\n"
     ]
    }
   ],
   "source": [
    "print(10 + 5)"
   ]
  },
  {
   "cell_type": "markdown",
   "id": "271b80b9-5fe7-4e12-bee2-f8b23e4782d2",
   "metadata": {},
   "source": [
    "example 2"
   ]
  },
  {
   "cell_type": "code",
   "execution_count": 79,
   "id": "0c111dd1-ea43-4c17-81de-4423d17c7399",
   "metadata": {},
   "outputs": [
    {
     "name": "stdout",
     "output_type": "stream",
     "text": [
      "8\n"
     ]
    }
   ],
   "source": [
    "x = 5\n",
    "x += 3\n",
    "print(x)"
   ]
  },
  {
   "cell_type": "markdown",
   "id": "e60871cd-f366-4986-beeb-247e4b220a34",
   "metadata": {},
   "source": [
    "example 3"
   ]
  },
  {
   "cell_type": "code",
   "execution_count": 81,
   "id": "ed20d902-91ed-4f65-a427-b7e746492faa",
   "metadata": {},
   "outputs": [
    {
     "name": "stdout",
     "output_type": "stream",
     "text": [
      "0\n"
     ]
    }
   ],
   "source": [
    "x = 12\n",
    "x%=4\n",
    "print(x)\n"
   ]
  },
  {
   "cell_type": "markdown",
   "id": "214a3656-0910-48ff-a514-90eb7b3ee20c",
   "metadata": {},
   "source": [
    "example 4"
   ]
  },
  {
   "cell_type": "code",
   "execution_count": 85,
   "id": "b6a1838a-86c3-4654-abbd-17b69c920940",
   "metadata": {},
   "outputs": [
    {
     "name": "stdout",
     "output_type": "stream",
     "text": [
      "2\n"
     ]
    }
   ],
   "source": [
    "x = 10\n",
    "x//=4\n",
    "print(x)"
   ]
  },
  {
   "cell_type": "markdown",
   "id": "b0ba8c0e-362a-4e96-b59d-b405a20bb2b3",
   "metadata": {},
   "source": [
    "example 5"
   ]
  },
  {
   "cell_type": "code",
   "execution_count": 87,
   "id": "9e695f9c-f5ae-401d-80c0-55769b8e919a",
   "metadata": {},
   "outputs": [
    {
     "name": "stdout",
     "output_type": "stream",
     "text": [
      "10\n"
     ]
    }
   ],
   "source": [
    "if (x := 10) > 5:\n",
    "    print(x)  \n"
   ]
  },
  {
   "cell_type": "markdown",
   "id": "b5aa074d-c31f-4add-87a3-72daa55fb036",
   "metadata": {},
   "source": [
    "example 6"
   ]
  },
  {
   "cell_type": "code",
   "execution_count": 89,
   "id": "d75682d0-b664-42b5-b368-65f097de475d",
   "metadata": {},
   "outputs": [
    {
     "name": "stdout",
     "output_type": "stream",
     "text": [
      "3\n"
     ]
    }
   ],
   "source": [
    "x = 11\n",
    "x &= 3\n",
    "print(x)\n"
   ]
  },
  {
   "cell_type": "markdown",
   "id": "3b781e4f-65ca-404c-bfeb-e6d4941763de",
   "metadata": {},
   "source": [
    "example 7"
   ]
  },
  {
   "cell_type": "code",
   "execution_count": 91,
   "id": "9f07f983-9cb3-45e1-ad94-0f2bafbaa2fe",
   "metadata": {},
   "outputs": [
    {
     "name": "stdout",
     "output_type": "stream",
     "text": [
      "7\n"
     ]
    }
   ],
   "source": [
    "x = 5\n",
    "x |= 3\n",
    "print(x)"
   ]
  },
  {
   "cell_type": "markdown",
   "id": "3fb38f60-5762-4bef-ba50-b63835153aaa",
   "metadata": {},
   "source": [
    "Python Lists"
   ]
  },
  {
   "cell_type": "markdown",
   "id": "24585d46-5f21-4e36-944e-03e39cebe042",
   "metadata": {},
   "source": [
    "example 1"
   ]
  },
  {
   "cell_type": "code",
   "execution_count": 95,
   "id": "2dd8be5a-8f41-493a-9ec3-98f94ea8b380",
   "metadata": {},
   "outputs": [
    {
     "name": "stdout",
     "output_type": "stream",
     "text": [
      "['apple', 'cherry', 'banana']\n"
     ]
    }
   ],
   "source": [
    "thislist=[\"apple\", \"cherry\",\"banana\"]\n",
    "print(thislist)"
   ]
  },
  {
   "cell_type": "markdown",
   "id": "120455ab-85b2-4c00-813c-c9b8e40f4260",
   "metadata": {},
   "source": [
    "example 2"
   ]
  },
  {
   "cell_type": "code",
   "execution_count": 97,
   "id": "2c56481b-39be-4831-b409-af263cb22622",
   "metadata": {},
   "outputs": [
    {
     "name": "stdout",
     "output_type": "stream",
     "text": [
      "['apple', 'cherry', 'banana', 'apple']\n"
     ]
    }
   ],
   "source": [
    "thislist=[\"apple\", \"cherry\",\"banana\",\"apple\"]\n",
    "print(thislist)"
   ]
  },
  {
   "cell_type": "markdown",
   "id": "51f7d60e-1f2e-4931-871f-651931a2a1c3",
   "metadata": {},
   "source": [
    "example 3"
   ]
  },
  {
   "cell_type": "code",
   "execution_count": 101,
   "id": "65d8c1c9-eada-4425-8b30-445d607817ed",
   "metadata": {},
   "outputs": [
    {
     "name": "stdout",
     "output_type": "stream",
     "text": [
      "3\n"
     ]
    }
   ],
   "source": [
    "thislist=[\"apple\",\"banana\",\"cherry\"]\n",
    "print(len(thislist))"
   ]
  },
  {
   "cell_type": "markdown",
   "id": "d6cce166-bd3d-4079-a4ae-ad1c1da6a586",
   "metadata": {},
   "source": [
    "example 4"
   ]
  },
  {
   "cell_type": "code",
   "execution_count": 105,
   "id": "d4dd4655-cb6d-4495-a217-125368ecd71a",
   "metadata": {},
   "outputs": [
    {
     "name": "stdout",
     "output_type": "stream",
     "text": [
      "['apple', 'banana', 'cherry']\n",
      "[1, 5, 2, 3, 3]\n",
      "[True, False, False]\n"
     ]
    }
   ],
   "source": [
    "list1 = [\"apple\", \"banana\", \"cherry\"]\n",
    "list2 = [1, 5, 2, 3, 3]\n",
    "list3 = [True, False, False]\n",
    "print(list1)\n",
    "print(list2)\n",
    "print(list3)"
   ]
  },
  {
   "cell_type": "markdown",
   "id": "d8ef76ff-83ab-4a8a-af18-8f3215264762",
   "metadata": {},
   "source": [
    "example 5"
   ]
  },
  {
   "cell_type": "code",
   "execution_count": 113,
   "id": "70c51796-36c8-4175-b93c-c0ef32bec449",
   "metadata": {},
   "outputs": [
    {
     "name": "stdout",
     "output_type": "stream",
     "text": [
      "['hello', 34, 3, True]\n"
     ]
    }
   ],
   "source": [
    "list=[\"hello\",34,3,True]\n",
    "print(list)"
   ]
  },
  {
   "cell_type": "markdown",
   "id": "b1900501-4c8b-4cc3-b628-0736da962621",
   "metadata": {},
   "source": [
    "example 6"
   ]
  },
  {
   "cell_type": "code",
   "execution_count": 115,
   "id": "ec6ffbdc-1a7c-441a-92d7-6c979542451c",
   "metadata": {},
   "outputs": [
    {
     "name": "stdout",
     "output_type": "stream",
     "text": [
      "<class 'list'>\n"
     ]
    }
   ],
   "source": [
    "list=[\"apple\",\"bananan\",\"cherry\"]\n",
    "print(type(list))"
   ]
  },
  {
   "cell_type": "markdown",
   "id": "af5ad34d-d34b-4586-ade8-f42839c917b3",
   "metadata": {},
   "source": [
    "Python - Access List Items"
   ]
  },
  {
   "cell_type": "markdown",
   "id": "fb81588d-948d-426a-ac88-32408b5387d5",
   "metadata": {},
   "source": [
    "example 1"
   ]
  },
  {
   "cell_type": "code",
   "execution_count": 129,
   "id": "2c089793-26d0-4f6c-8c9c-a1595ff28d87",
   "metadata": {},
   "outputs": [
    {
     "name": "stdout",
     "output_type": "stream",
     "text": [
      "banana\n"
     ]
    }
   ],
   "source": [
    "thislist = [\"apple\", \"banana\", \"cherry\"]\n",
    "print(thislist[1])"
   ]
  },
  {
   "cell_type": "markdown",
   "id": "04c1a1bc-4953-4ad0-ac4d-32a0fb0a0451",
   "metadata": {},
   "source": [
    "example 2"
   ]
  },
  {
   "cell_type": "code",
   "execution_count": 131,
   "id": "66b28e97-6c91-494c-a9ad-23e3e9476b8a",
   "metadata": {},
   "outputs": [
    {
     "name": "stdout",
     "output_type": "stream",
     "text": [
      "cherry\n"
     ]
    }
   ],
   "source": [
    "thislist = [\"apple\", \"banana\", \"cherry\"]\n",
    "print(thislist[-1])"
   ]
  },
  {
   "cell_type": "markdown",
   "id": "6023e08d-ef73-415c-b220-8e25d28a6502",
   "metadata": {},
   "source": [
    "example 3"
   ]
  },
  {
   "cell_type": "code",
   "execution_count": 135,
   "id": "fb2a4fe9-cd7e-4e88-88c9-4f80c8914641",
   "metadata": {},
   "outputs": [
    {
     "name": "stdout",
     "output_type": "stream",
     "text": [
      "['cherry', 'orange', 'kiwi', 'melon']\n"
     ]
    }
   ],
   "source": [
    "thislist = [\"apple\", \"banana\", \"cherry\", \"orange\", \"kiwi\", \"melon\", \"mango\"]\n",
    "print(thislist[2:6])"
   ]
  },
  {
   "cell_type": "markdown",
   "id": "9550fb4d-752a-4706-ac5f-1c6d342be5c7",
   "metadata": {},
   "source": [
    "example 4"
   ]
  },
  {
   "cell_type": "code",
   "execution_count": 137,
   "id": "4892da3d-a5f7-43e5-9b28-a91197230089",
   "metadata": {},
   "outputs": [
    {
     "name": "stdout",
     "output_type": "stream",
     "text": [
      "['apple', 'banana', 'cherry', 'orange']\n"
     ]
    }
   ],
   "source": [
    "thislist = [\"apple\", \"banana\", \"cherry\", \"orange\", \"kiwi\", \"melon\", \"mango\"]\n",
    "print(thislist[:4])"
   ]
  },
  {
   "cell_type": "markdown",
   "id": "49bb1fbe-5369-48ad-ade1-14dc29c95762",
   "metadata": {},
   "source": [
    "example 5"
   ]
  },
  {
   "cell_type": "code",
   "execution_count": 139,
   "id": "1e8a32de-bf21-4799-88ef-3d84f80eeb64",
   "metadata": {},
   "outputs": [
    {
     "name": "stdout",
     "output_type": "stream",
     "text": [
      "['cherry', 'orange', 'kiwi', 'melon', 'mango']\n"
     ]
    }
   ],
   "source": [
    "thislist = [\"apple\", \"banana\", \"cherry\", \"orange\", \"kiwi\", \"melon\", \"mango\"]\n",
    "print(thislist[2:])"
   ]
  },
  {
   "cell_type": "markdown",
   "id": "595e36a0-aaa9-470d-8c66-44585a423992",
   "metadata": {},
   "source": [
    "example 6"
   ]
  },
  {
   "cell_type": "code",
   "execution_count": 141,
   "id": "6998a952-06c5-45ea-9565-3e4e48a42907",
   "metadata": {},
   "outputs": [
    {
     "name": "stdout",
     "output_type": "stream",
     "text": [
      "['orange', 'kiwi', 'melon']\n"
     ]
    }
   ],
   "source": [
    "thislist = [\"apple\", \"banana\", \"cherry\", \"orange\", \"kiwi\", \"melon\", \"mango\"]\n",
    "print(thislist[-4:-1])"
   ]
  },
  {
   "cell_type": "markdown",
   "id": "1ce4c49c-8820-486d-8e9a-69a1eaece4d7",
   "metadata": {},
   "source": [
    "example 7"
   ]
  },
  {
   "cell_type": "code",
   "execution_count": 143,
   "id": "b2c28faa-86c5-40ad-a4c7-d39e66b2784c",
   "metadata": {},
   "outputs": [
    {
     "name": "stdout",
     "output_type": "stream",
     "text": [
      "Yes\n"
     ]
    }
   ],
   "source": [
    "thislist = [\"apple\", \"banana\", \"cherry\"]\n",
    "if \"apple\" in thislist:\n",
    "  print(\"Yes\")"
   ]
  },
  {
   "cell_type": "markdown",
   "id": "4607c86d-f62b-454c-80f2-7c36761b8af8",
   "metadata": {},
   "source": [
    "Python - Change List Items"
   ]
  },
  {
   "cell_type": "markdown",
   "id": "c339c8d7-ea65-49fe-93f2-02c8793d84ca",
   "metadata": {},
   "source": [
    "example 1"
   ]
  },
  {
   "cell_type": "code",
   "execution_count": 145,
   "id": "3223b0a8-a65f-47d1-82cd-de91868fcda7",
   "metadata": {},
   "outputs": [
    {
     "name": "stdout",
     "output_type": "stream",
     "text": [
      "['apple', 'orange', 'cherry']\n"
     ]
    }
   ],
   "source": [
    "thislist = [\"apple\", \"banana\", \"cherry\"]\n",
    "thislist[1]=\"orange\"\n",
    "print(thislist)"
   ]
  },
  {
   "cell_type": "markdown",
   "id": "38e165e9-c858-45b3-9a75-2e90d92db072",
   "metadata": {},
   "source": [
    "example 2"
   ]
  },
  {
   "cell_type": "code",
   "execution_count": 147,
   "id": "87f677c8-5fdb-401e-a1e7-15c46bf24583",
   "metadata": {},
   "outputs": [
    {
     "name": "stdout",
     "output_type": "stream",
     "text": [
      "['apple', 'blackcurrant', 'watermelon', 'orange', 'kiwi', 'mango']\n"
     ]
    }
   ],
   "source": [
    "thislist = [\"apple\", \"banana\", \"cherry\", \"orange\", \"kiwi\", \"mango\"]\n",
    "thislist[1:3] = [\"blackcurrant\", \"watermelon\"]\n",
    "print(thislist)"
   ]
  },
  {
   "cell_type": "markdown",
   "id": "a8445500-1648-4ce8-931b-3abecf0fad1c",
   "metadata": {},
   "source": [
    "example 3"
   ]
  },
  {
   "cell_type": "code",
   "execution_count": 149,
   "id": "2a4937c5-0dbf-4d4f-9071-4115ec2b57f2",
   "metadata": {},
   "outputs": [
    {
     "name": "stdout",
     "output_type": "stream",
     "text": [
      "['apple', 'watermelon', 'orange', 'cherry']\n"
     ]
    }
   ],
   "source": [
    "thislis=[\"apple\",\"bananna\",\"cherry\"]\n",
    "thislis[1:2]=\"watermelon\",\"orange\"\n",
    "print(thislis)"
   ]
  },
  {
   "cell_type": "markdown",
   "id": "a46141bf-5e9d-4e3d-871b-7df5468bbfb4",
   "metadata": {},
   "source": [
    "example 4"
   ]
  },
  {
   "cell_type": "code",
   "execution_count": 151,
   "id": "ec48c766-9a54-41e1-bbc7-eab261689878",
   "metadata": {},
   "outputs": [
    {
     "name": "stdout",
     "output_type": "stream",
     "text": [
      "['apple', 'watermelon']\n"
     ]
    }
   ],
   "source": [
    "thislist = [\"apple\", \"banana\", \"cherry\"]\n",
    "thislist[1:3] = [\"watermelon\"]\n",
    "print(thislist)"
   ]
  },
  {
   "cell_type": "markdown",
   "id": "d96a40ef-8885-4ee5-86e2-2a52182fdd24",
   "metadata": {},
   "source": [
    "example 5"
   ]
  },
  {
   "cell_type": "code",
   "execution_count": 155,
   "id": "d5f3ad6d-4f73-4ab1-987e-4f7eaa1f1872",
   "metadata": {},
   "outputs": [
    {
     "name": "stdout",
     "output_type": "stream",
     "text": [
      "['apple', 'banana', 'watermelon', 'cherry']\n"
     ]
    }
   ],
   "source": [
    "thislist = [\"apple\", \"banana\", \"cherry\"]\n",
    "thislist.insert(2,\"watermelon\")\n",
    "print(thislist)"
   ]
  },
  {
   "cell_type": "markdown",
   "id": "78cf358c-966d-4a60-a59f-eee0c04f66ec",
   "metadata": {},
   "source": [
    "Python - Add List Items"
   ]
  },
  {
   "cell_type": "markdown",
   "id": "6ec1c569-0c90-4b2f-a41a-bb9660121037",
   "metadata": {},
   "source": [
    "example 1"
   ]
  },
  {
   "cell_type": "code",
   "execution_count": 157,
   "id": "391d1b31-2e7b-4669-bb55-00e7248cbb04",
   "metadata": {},
   "outputs": [
    {
     "name": "stdout",
     "output_type": "stream",
     "text": [
      "['apple', 'banana', 'cherry', 'orange']\n"
     ]
    }
   ],
   "source": [
    "thislist = [\"apple\", \"banana\", \"cherry\"]\n",
    "thislist.append(\"orange\")\n",
    "print(thislist)"
   ]
  },
  {
   "cell_type": "markdown",
   "id": "62eccaf3-6b29-4977-bd5e-2ee844bd5d79",
   "metadata": {},
   "source": [
    "example 2"
   ]
  },
  {
   "cell_type": "code",
   "execution_count": 159,
   "id": "a78afc90-ef1b-4c23-8826-dd1ca9375370",
   "metadata": {},
   "outputs": [
    {
     "name": "stdout",
     "output_type": "stream",
     "text": [
      "['apple', 'watermelon', 'banana', 'cherry']\n"
     ]
    }
   ],
   "source": [
    "thislist = [\"apple\", \"banana\", \"cherry\"]\n",
    "thislist.insert(1,\"watermelon\")\n",
    "print(thislist)"
   ]
  },
  {
   "cell_type": "markdown",
   "id": "7513a5f0-fab8-44ca-913a-6b12c185202a",
   "metadata": {},
   "source": [
    "example 3"
   ]
  },
  {
   "cell_type": "code",
   "execution_count": 161,
   "id": "12e8d71b-840f-43bc-b24b-3d86be0808e0",
   "metadata": {},
   "outputs": [
    {
     "name": "stdout",
     "output_type": "stream",
     "text": [
      "['apple', 'banana', 'cherry', 'mango', 'pineapple', 'papaya']\n"
     ]
    }
   ],
   "source": [
    "thislist = [\"apple\", \"banana\", \"cherry\"]\n",
    "tropical = [\"mango\", \"pineapple\", \"papaya\"]\n",
    "thislist.extend(tropical)\n",
    "print(thislist)"
   ]
  },
  {
   "cell_type": "markdown",
   "id": "14b389e0-2f81-4566-a0ff-f385107ba8ea",
   "metadata": {},
   "source": [
    "Python - Remove List Items"
   ]
  },
  {
   "cell_type": "markdown",
   "id": "7356e6cb-feae-49cf-a940-0753fb0f5da9",
   "metadata": {},
   "source": [
    "example 1"
   ]
  },
  {
   "cell_type": "code",
   "execution_count": 165,
   "id": "4468066c-0f1a-49cb-b986-1ed37741ca9f",
   "metadata": {},
   "outputs": [
    {
     "name": "stdout",
     "output_type": "stream",
     "text": [
      "['apple', 'cherry']\n"
     ]
    }
   ],
   "source": [
    "thislist = [\"apple\", \"banana\", \"cherry\"]\n",
    "thislist.remove(\"banana\")\n",
    "print(thislist)"
   ]
  },
  {
   "cell_type": "markdown",
   "id": "25979935-3ede-4a39-9691-462009793575",
   "metadata": {},
   "source": [
    "example 2"
   ]
  },
  {
   "cell_type": "code",
   "execution_count": 167,
   "id": "ab9affe1-c1c5-4e82-8f58-3563b51e1bd6",
   "metadata": {},
   "outputs": [
    {
     "name": "stdout",
     "output_type": "stream",
     "text": [
      "['apple', 'cherry', 'banana', 'kiwi']\n"
     ]
    }
   ],
   "source": [
    "thislist = [\"apple\", \"banana\", \"cherry\", \"banana\", \"kiwi\"]\n",
    "thislist.remove(\"banana\")\n",
    "print(thislist)\n"
   ]
  },
  {
   "cell_type": "markdown",
   "id": "640b3e2e-951e-428a-9e04-34f5275a8044",
   "metadata": {},
   "source": [
    "example 3"
   ]
  },
  {
   "cell_type": "code",
   "execution_count": 169,
   "id": "7a6e9148-b0a7-4c09-88a3-9ccfced9ec3f",
   "metadata": {},
   "outputs": [
    {
     "name": "stdout",
     "output_type": "stream",
     "text": [
      "['apple', 'banana', 'banana', 'kiwi']\n"
     ]
    }
   ],
   "source": [
    "thislist = [\"apple\", \"banana\", \"cherry\", \"banana\", \"kiwi\"]\n",
    "thislist.pop(2)\n",
    "print(thislist)\n"
   ]
  },
  {
   "cell_type": "markdown",
   "id": "1748cea4-855b-4a4f-99f8-a8ca8ebf5535",
   "metadata": {},
   "source": [
    "example 4"
   ]
  },
  {
   "cell_type": "code",
   "execution_count": 171,
   "id": "eca30b77-95fa-43aa-859d-c81635c37969",
   "metadata": {},
   "outputs": [
    {
     "name": "stdout",
     "output_type": "stream",
     "text": [
      "['apple', 'banana']\n"
     ]
    }
   ],
   "source": [
    "thislist = [\"apple\", \"banana\", \"cherry\"]\n",
    "thislist.pop()\n",
    "print(thislist)"
   ]
  },
  {
   "cell_type": "markdown",
   "id": "c36921b5-276d-4168-9f4d-a7f0bd9959ba",
   "metadata": {},
   "source": [
    "example 5"
   ]
  },
  {
   "cell_type": "code",
   "execution_count": 175,
   "id": "064f412c-b33c-4ae4-a6a7-4797b2603219",
   "metadata": {},
   "outputs": [
    {
     "name": "stdout",
     "output_type": "stream",
     "text": [
      "['banana', 'cherry']\n"
     ]
    }
   ],
   "source": [
    "thislist = [\"apple\", \"banana\", \"cherry\"]\n",
    "del thislist[0]\n",
    "print(thislist)"
   ]
  },
  {
   "cell_type": "markdown",
   "id": "3c06022c-1437-4c90-b9f3-ec93923f0559",
   "metadata": {},
   "source": [
    "example 6"
   ]
  },
  {
   "cell_type": "code",
   "execution_count": 179,
   "id": "424e6bd5-216e-4d9a-b550-982ee213c69c",
   "metadata": {},
   "outputs": [
    {
     "name": "stdout",
     "output_type": "stream",
     "text": [
      "[]\n"
     ]
    }
   ],
   "source": [
    "thislist = [\"apple\", \"banana\", \"cherry\"]\n",
    "thislist.clear()\n",
    "print(thislist)"
   ]
  }
 ],
 "metadata": {
  "kernelspec": {
   "display_name": "Python [conda env:base] *",
   "language": "python",
   "name": "conda-base-py"
  },
  "language_info": {
   "codemirror_mode": {
    "name": "ipython",
    "version": 3
   },
   "file_extension": ".py",
   "mimetype": "text/x-python",
   "name": "python",
   "nbconvert_exporter": "python",
   "pygments_lexer": "ipython3",
   "version": "3.12.7"
  }
 },
 "nbformat": 4,
 "nbformat_minor": 5
}
